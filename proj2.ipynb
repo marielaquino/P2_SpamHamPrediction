{
 "cells": [
  {
   "cell_type": "markdown",
   "metadata": {},
   "source": [
    "Before you turn this assignment in, make sure everything runs as expected. First, **restart the kernel** (in the menubar, select Kernel$\\rightarrow$Restart) and then **run all cells** (in the menubar, select Cell$\\rightarrow$Run All). Lastly, hit **Validate**.\n",
    "\n",
    "If you worked locally, and then uploaded your work to the hub, make sure to follow these steps:\n",
    "- open your uploaded notebook **on the hub**\n",
    "- hit the validate button right above this cell, from inside the notebook\n",
    "\n",
    "These  steps should solve any issue related to submitting the notebook on the hub.\n",
    "\n",
    "Make sure you fill in any place that says `YOUR CODE HERE` or \"YOUR ANSWER HERE\", as well as your name and collaborators below:"
   ]
  },
  {
   "cell_type": "code",
   "execution_count": 2,
   "metadata": {},
   "outputs": [],
   "source": [
    "NAME = \"Mariel Aquino\"\n",
    "COLLABORATORS = \"Nidhi Kakulawaram\""
   ]
  },
  {
   "cell_type": "markdown",
   "metadata": {},
   "source": [
    "---"
   ]
  },
  {
   "cell_type": "markdown",
   "metadata": {
    "deletable": false,
    "editable": false,
    "nbgrader": {
     "cell_type": "markdown",
     "checksum": "e9b95f0e3f952f2a69021b9e6257b0e0",
     "grade": false,
     "grade_id": "proj2",
     "locked": true,
     "schema_version": 2,
     "solution": false
    }
   },
   "source": [
    "# Project 2: Spam // Ham Prediction  \n",
    "\n",
    "## Due Date: 11:59pm Sunday, April 29\n",
    "\n",
    "In this project, you will use what you've learned in class to create a classifier that can distinguish spam (junk or commercial or bulk) emails from ham (non-spam) emails. In addition to providing some skeleton code to fill in, we will evaluate your work based on your model's accuracy and your written responses in this notebook.\n",
    "\n",
    "## Score breakdown\n",
    "\n",
    "Question | Points\n",
    "--- | ---\n",
    "Question 1 | 3\n",
    "Question 2 | 2\n",
    "Question 3a | 2\n",
    "Question 3b | 2\n",
    "Question 4 | 2\n",
    "Question 5 | 2\n",
    "Question 6 | 9\n",
    "Question 7 | 6\n",
    "Question 8 | 6\n",
    "Question 9 | 3\n",
    "Question 10 | 5\n",
    "Total | 42"
   ]
  },
  {
   "cell_type": "markdown",
   "metadata": {
    "deletable": false,
    "editable": false,
    "nbgrader": {
     "cell_type": "markdown",
     "checksum": "13d4b9efb57a66ecdde4f5c2e2bcc526",
     "grade": false,
     "grade_id": "p1",
     "locked": true,
     "schema_version": 2,
     "solution": false
    }
   },
   "source": [
    "# Part I - Initial Analysis"
   ]
  },
  {
   "cell_type": "code",
   "execution_count": 3,
   "metadata": {
    "deletable": false,
    "editable": false,
    "nbgrader": {
     "cell_type": "code",
     "checksum": "86334642abec944a9d6c8299e6ba5896",
     "grade": false,
     "grade_id": "imports",
     "locked": true,
     "schema_version": 2,
     "solution": false
    }
   },
   "outputs": [],
   "source": [
    "import numpy as np\n",
    "import pandas as pd\n",
    "\n",
    "import matplotlib.pyplot as plt\n",
    "%matplotlib inline\n",
    "\n",
    "import seaborn as sns\n",
    "sns.set(style = \"whitegrid\", \n",
    "        color_codes = True,\n",
    "        font_scale = 1.5)"
   ]
  },
  {
   "cell_type": "markdown",
   "metadata": {
    "deletable": false,
    "editable": false,
    "nbgrader": {
     "cell_type": "markdown",
     "checksum": "5d3fe1dd9f7bc02dfe273dc477925ec5",
     "grade": false,
     "grade_id": "loading",
     "locked": true,
     "schema_version": 2,
     "solution": false
    }
   },
   "source": [
    "### Loading in the Data\n",
    "\n",
    "The dataset consists of email messages and their labels (0 for ham, 1 for spam). Your labelled dataset contains 8348 labelled examples, and the evaluation set contains 1000 unlabelled examples.\n",
    "\n",
    "Run the following cells to load in the data into DataFrames.\n",
    "\n",
    "The `train` DataFrame contains labelled data that you will use to train your model. It contains three columns:\n",
    "\n",
    "1. `id`: An identifier for the training example.\n",
    "1. `subject`: The subject of the email\n",
    "1. `email`: The text of the email.\n",
    "1. `spam`: 1 if the email was spam, 0 if the email was ham (not spam).\n",
    "\n",
    "The `evaluation` DataFrame contains another set of 1000 unlabelled examples. You will predict labels for these examples and submit your predictions to Kaggle for evaluation."
   ]
  },
  {
   "cell_type": "code",
   "execution_count": 4,
   "metadata": {
    "deletable": false,
    "editable": false,
    "nbgrader": {
     "cell_type": "code",
     "checksum": "553fddfce24f4d89fd7ad907a7b22d28",
     "grade": false,
     "grade_id": "fetch-data",
     "locked": true,
     "schema_version": 2,
     "solution": false
    }
   },
   "outputs": [
    {
     "name": "stdout",
     "output_type": "stream",
     "text": [
      "Using version already downloaded: Tue Apr 17 06:25:48 2018\n",
      "MD5 hash of file: 0380c4cf72746622947b9ca5db9b8be8\n",
      "Using version already downloaded: Tue Apr 17 06:25:50 2018\n",
      "MD5 hash of file: a2e7abd8c7d9abf6e6fafc1d1f9ee6bf\n"
     ]
    },
    {
     "data": {
      "text/html": [
       "<div>\n",
       "<style scoped>\n",
       "    .dataframe tbody tr th:only-of-type {\n",
       "        vertical-align: middle;\n",
       "    }\n",
       "\n",
       "    .dataframe tbody tr th {\n",
       "        vertical-align: top;\n",
       "    }\n",
       "\n",
       "    .dataframe thead th {\n",
       "        text-align: right;\n",
       "    }\n",
       "</style>\n",
       "<table border=\"1\" class=\"dataframe\">\n",
       "  <thead>\n",
       "    <tr style=\"text-align: right;\">\n",
       "      <th></th>\n",
       "      <th>id</th>\n",
       "      <th>subject</th>\n",
       "      <th>email</th>\n",
       "      <th>spam</th>\n",
       "    </tr>\n",
       "  </thead>\n",
       "  <tbody>\n",
       "    <tr>\n",
       "      <th>0</th>\n",
       "      <td>0</td>\n",
       "      <td>Subject: A&amp;L Daily to be auctioned in bankrupt...</td>\n",
       "      <td>url: http://boingboing.net/#85534171\\n date: n...</td>\n",
       "      <td>0</td>\n",
       "    </tr>\n",
       "    <tr>\n",
       "      <th>1</th>\n",
       "      <td>1</td>\n",
       "      <td>Subject: Wired: \"Stronger ties between ISPs an...</td>\n",
       "      <td>url: http://scriptingnews.userland.com/backiss...</td>\n",
       "      <td>0</td>\n",
       "    </tr>\n",
       "    <tr>\n",
       "      <th>2</th>\n",
       "      <td>2</td>\n",
       "      <td>Subject: It's just too small                  ...</td>\n",
       "      <td>&lt;html&gt;\\n &lt;head&gt;\\n &lt;/head&gt;\\n &lt;body&gt;\\n &lt;font siz...</td>\n",
       "      <td>1</td>\n",
       "    </tr>\n",
       "    <tr>\n",
       "      <th>3</th>\n",
       "      <td>3</td>\n",
       "      <td>Subject: liberal defnitions\\n</td>\n",
       "      <td>depends on how much over spending vs. how much...</td>\n",
       "      <td>0</td>\n",
       "    </tr>\n",
       "    <tr>\n",
       "      <th>4</th>\n",
       "      <td>4</td>\n",
       "      <td>Subject: RE: [ILUG] Newbie seeks advice - Suse...</td>\n",
       "      <td>hehe sorry but if you hit caps lock twice the ...</td>\n",
       "      <td>0</td>\n",
       "    </tr>\n",
       "  </tbody>\n",
       "</table>\n",
       "</div>"
      ],
      "text/plain": [
       "   id                                            subject  \\\n",
       "0   0  Subject: A&L Daily to be auctioned in bankrupt...   \n",
       "1   1  Subject: Wired: \"Stronger ties between ISPs an...   \n",
       "2   2  Subject: It's just too small                  ...   \n",
       "3   3                      Subject: liberal defnitions\\n   \n",
       "4   4  Subject: RE: [ILUG] Newbie seeks advice - Suse...   \n",
       "\n",
       "                                               email  spam  \n",
       "0  url: http://boingboing.net/#85534171\\n date: n...     0  \n",
       "1  url: http://scriptingnews.userland.com/backiss...     0  \n",
       "2  <html>\\n <head>\\n </head>\\n <body>\\n <font siz...     1  \n",
       "3  depends on how much over spending vs. how much...     0  \n",
       "4  hehe sorry but if you hit caps lock twice the ...     0  "
      ]
     },
     "execution_count": 4,
     "metadata": {},
     "output_type": "execute_result"
    }
   ],
   "source": [
    "from utils import fetch_and_cache_gdrive\n",
    "fetch_and_cache_gdrive('1SCASpLZFKCp2zek-toR3xeKX3DZnBSyp', 'train.csv')\n",
    "fetch_and_cache_gdrive('1ZDFo9OTF96B5GP2Nzn8P8-AL7CTQXmC0', 'eval.csv')\n",
    "\n",
    "original_training_data = pd.read_csv('data/train.csv')\n",
    "evaluation = pd.read_csv('data/eval.csv')\n",
    "\n",
    "# Convert the emails to lower case as a first step to processing the text\n",
    "original_training_data['email'] = original_training_data['email'].str.lower()\n",
    "evaluation['email'] = evaluation['email'].str.lower()\n",
    "\n",
    "original_training_data.head()"
   ]
  },
  {
   "cell_type": "markdown",
   "metadata": {
    "deletable": false,
    "editable": false,
    "nbgrader": {
     "cell_type": "markdown",
     "checksum": "cd636166056f9007afa15fb14e1add52",
     "grade": false,
     "grade_id": "train-test",
     "locked": true,
     "schema_version": 2,
     "solution": false
    }
   },
   "source": [
    "## Train-Test Split\n",
    "\n",
    "The training data we downloaded is all the data we have available for both training models and **testing** the models that we train.  We therefore need to split the training data into separate training and test datsets.  You will need this **test data** to evaluate your model once you are finished training."
   ]
  },
  {
   "cell_type": "code",
   "execution_count": 5,
   "metadata": {
    "deletable": false,
    "editable": false,
    "nbgrader": {
     "cell_type": "code",
     "checksum": "2f91e8f002a63bc72069c5ac957ca5b4",
     "grade": false,
     "grade_id": "train-test-code",
     "locked": true,
     "schema_version": 2,
     "solution": false
    }
   },
   "outputs": [],
   "source": [
    "from sklearn.model_selection import train_test_split\n",
    "\n",
    "[train, test] = train_test_split(original_training_data, test_size=0.1, random_state=42)"
   ]
  },
  {
   "cell_type": "markdown",
   "metadata": {
    "deletable": false,
    "editable": false,
    "nbgrader": {
     "cell_type": "markdown",
     "checksum": "e7b9da3ae60578672c9a42db28823c0a",
     "grade": false,
     "grade_id": "q1",
     "locked": true,
     "schema_version": 2,
     "solution": false
    }
   },
   "source": [
    "# Question 1\n",
    "\n",
    "In the cell below, print the text of the first ham and the first spam email in the training set. Then, discuss one thing you notice that is different between the two that might relate to the identification of spam."
   ]
  },
  {
   "cell_type": "code",
   "execution_count": 6,
   "metadata": {},
   "outputs": [
    {
     "data": {
      "text/html": [
       "<div>\n",
       "<style scoped>\n",
       "    .dataframe tbody tr th:only-of-type {\n",
       "        vertical-align: middle;\n",
       "    }\n",
       "\n",
       "    .dataframe tbody tr th {\n",
       "        vertical-align: top;\n",
       "    }\n",
       "\n",
       "    .dataframe thead th {\n",
       "        text-align: right;\n",
       "    }\n",
       "</style>\n",
       "<table border=\"1\" class=\"dataframe\">\n",
       "  <thead>\n",
       "    <tr style=\"text-align: right;\">\n",
       "      <th></th>\n",
       "      <th>id</th>\n",
       "      <th>subject</th>\n",
       "      <th>email</th>\n",
       "      <th>spam</th>\n",
       "    </tr>\n",
       "  </thead>\n",
       "  <tbody>\n",
       "    <tr>\n",
       "      <th>7657</th>\n",
       "      <td>7657</td>\n",
       "      <td>Subject: Patch to enable/disable log\\n</td>\n",
       "      <td>while i was playing with the past issues, it a...</td>\n",
       "      <td>0</td>\n",
       "    </tr>\n",
       "    <tr>\n",
       "      <th>6911</th>\n",
       "      <td>6911</td>\n",
       "      <td>Subject: When an engineer flaps his wings\\n</td>\n",
       "      <td>url: http://diveintomark.org/archives/2002/10/...</td>\n",
       "      <td>0</td>\n",
       "    </tr>\n",
       "    <tr>\n",
       "      <th>6074</th>\n",
       "      <td>6074</td>\n",
       "      <td>Subject: Re: [Razor-users] razor plugins for m...</td>\n",
       "      <td>no, please post a link!\\n \\n fox\\n ----- origi...</td>\n",
       "      <td>0</td>\n",
       "    </tr>\n",
       "    <tr>\n",
       "      <th>4376</th>\n",
       "      <td>4376</td>\n",
       "      <td>Subject: NYTimes.com Article: Stop Those Press...</td>\n",
       "      <td>this article from nytimes.com \\n has been sent...</td>\n",
       "      <td>0</td>\n",
       "    </tr>\n",
       "    <tr>\n",
       "      <th>5766</th>\n",
       "      <td>5766</td>\n",
       "      <td>Subject: What's facing FBI's new CIO? (Tech Up...</td>\n",
       "      <td>&lt;html&gt;\\n &lt;head&gt;\\n &lt;title&gt;tech update today&lt;/ti...</td>\n",
       "      <td>0</td>\n",
       "    </tr>\n",
       "  </tbody>\n",
       "</table>\n",
       "</div>"
      ],
      "text/plain": [
       "        id                                            subject  \\\n",
       "7657  7657             Subject: Patch to enable/disable log\\n   \n",
       "6911  6911        Subject: When an engineer flaps his wings\\n   \n",
       "6074  6074  Subject: Re: [Razor-users] razor plugins for m...   \n",
       "4376  4376  Subject: NYTimes.com Article: Stop Those Press...   \n",
       "5766  5766  Subject: What's facing FBI's new CIO? (Tech Up...   \n",
       "\n",
       "                                                  email  spam  \n",
       "7657  while i was playing with the past issues, it a...     0  \n",
       "6911  url: http://diveintomark.org/archives/2002/10/...     0  \n",
       "6074  no, please post a link!\\n \\n fox\\n ----- origi...     0  \n",
       "4376  this article from nytimes.com \\n has been sent...     0  \n",
       "5766  <html>\\n <head>\\n <title>tech update today</ti...     0  "
      ]
     },
     "execution_count": 6,
     "metadata": {},
     "output_type": "execute_result"
    }
   ],
   "source": [
    "train.head()"
   ]
  },
  {
   "cell_type": "code",
   "execution_count": 7,
   "metadata": {},
   "outputs": [
    {
     "data": {
      "text/plain": [
       "'--===_secatt_000_1fuklemuttfusq\\n content-type: text/plain; charset=\"us-ascii\"\\n content-transfer-encoding: quoted-printable\\n \\n aluko martin\\n 23 victoriagarden city=2c\\n lagos-nigeria=2e\\n \\n attn=2e\\n \\n \\n we have an immediate business proposal that involves us$34=2c700=2c000\\n which we will like to invest under your custody=2e please=2c do not\\n hesitate\\n to send me an email=2c so as to discuss with you the details of the\\n transaction=2fthe\\n terms and condition of sharing regarding the business=2e\\n your urgent response will be highly appreciated and will swiftly\\n bring us\\n to the commencement of the transaction=2e we hope to conclude this\\n transaction\\n within 10-12 working days=2e do not forget to contact me on receipt of\\n this\\n mail=2e and please ensure to maintain absolute confidentiality with\\n regard to\\n this\\n pending transaction=2e i urgently await your response=2e\\n \\n best regards=2c\\n \\n aluko martin=2e\\n \\n -- \\n \\n \\n --===_secatt_000_1fuklemuttfusq\\n content-type: application/octet-stream; name=\"mailxs_list.lst\"\\n content-transfer-encoding: base64\\n content-disposition: attachment; filename=\"mailxs_list.lst\"\\n \\n \\n --===_secatt_000_1fuklemuttfusq\\n \\n'"
      ]
     },
     "execution_count": 7,
     "metadata": {},
     "output_type": "execute_result"
    }
   ],
   "source": [
    "train[train['spam']==1].iloc[0][2]"
   ]
  },
  {
   "cell_type": "code",
   "execution_count": 8,
   "metadata": {},
   "outputs": [
    {
     "data": {
      "text/plain": [
       "'while i was playing with the past issues, it annoyed me that there was\\n no easy way to make the log stop growing (i don\\'t mean to truncate it,\\n i mean to just freeze it for a while).\\n \\n the following patch adds a new button to the log window, which allows\\n the log to be switched on/off (the button says \"disable\" when the\\n log is enabled, and the button disables it, and \"enable\" when the log\\n is frozen, and the button enables it again).\\n \\n kre\\n \\n --- main.tcl\\twed aug 21 15:01:48 2002\\n +++ /usr/local/lib/exmh-2.5/main.tcl\\twed aug 28 17:36:59 2002\\n @@ -385,6 +385,9 @@\\n  \\texmhlogcreate\\n  \\twm withdraw $exmh(logtop)\\n      }\\n +    if {! $exmh(logwrite)} {\\n +\\treturn\\n +    }\\n      if [info exists exmh(log)] {\\n  \\tcatch {\\n  #\\t    $exmh(log) insert end \" [bw_delta] \"\\n @@ -407,6 +410,9 @@\\n      set exmh(logwindow) 1\\n      exwin_toplevel .log \"exmh log\" log\\n      set exmh(logtop) .log\\n +    set exmh(logdisablebut) \\\\\\n +\\t[widget_addbut $exmh(logtop).but swap \"disable\" exmhlogtoggle]\\n +    set exmh(logwrite) 1\\n      widget_addbut $exmh(logtop).but trunc \"truncate\" exmhlogtrunc\\n      widget_addbut $exmh(logtop).but save \"save to file\" exmhlogsave\\n      set exmh(logyview) 1\\n @@ -457,6 +463,12 @@\\n      } msg] {\\n  \\texmh_status \"cannot save log: $msg\" error\\n      }\\n +}\\n +proc exmhlogtoggle {} {\\n +    global exmh\\n +\\n +    set exmh(logwrite) [expr ! $exmh(logwrite)]\\n +    $exmh(logdisablebut) configure -text [lindex {\"enable \" disable} $exmh(logwrite)]\\n  }\\n  #### misc\\n  \\n \\n \\n \\n \\n _______________________________________________\\n exmh-workers mailing list\\n exmh-workers@redhat.com\\n https://listman.redhat.com/mailman/listinfo/exmh-workers\\n \\n'"
      ]
     },
     "execution_count": 8,
     "metadata": {},
     "output_type": "execute_result"
    }
   ],
   "source": [
    "train[train['spam']==0].iloc[0][2]"
   ]
  },
  {
   "cell_type": "code",
   "execution_count": 9,
   "metadata": {
    "deletable": false,
    "nbgrader": {
     "cell_type": "code",
     "checksum": "ff10a1144d9c5bff85dc2274907ce32c",
     "grade": false,
     "grade_id": "q1-answer",
     "locked": false,
     "schema_version": 2,
     "solution": true
    }
   },
   "outputs": [],
   "source": [
    "# Print the text of the first ham and the first spam emails. Then, fill in your response in the q01 variable:\n",
    "first_ham = train[train['spam']==0].iloc[0][2]\n",
    "first_spam = train[train['spam']==1].iloc[0][2]"
   ]
  },
  {
   "cell_type": "code",
   "execution_count": 10,
   "metadata": {},
   "outputs": [
    {
     "name": "stdout",
     "output_type": "stream",
     "text": [
      "True\n",
      "True\n"
     ]
    }
   ],
   "source": [
    "print(isinstance(train['subject'][0], str))\n",
    "print('issues' in first_ham)"
   ]
  },
  {
   "cell_type": "code",
   "execution_count": 11,
   "metadata": {
    "deletable": false,
    "editable": false,
    "nbgrader": {
     "cell_type": "code",
     "checksum": "115ba1cae1be0d4c7a5e9b91526fcb19",
     "grade": true,
     "grade_id": "q1-tests",
     "locked": true,
     "points": 1,
     "schema_version": 2,
     "solution": false
    }
   },
   "outputs": [],
   "source": [
    "# This is a cell with just a comment but don't delete me if you want to get credit."
   ]
  },
  {
   "cell_type": "markdown",
   "metadata": {
    "deletable": false,
    "nbgrader": {
     "cell_type": "markdown",
     "checksum": "cc6c8ddb4b03754a64382c725dafc5b0",
     "grade": true,
     "grade_id": "q1-written",
     "locked": false,
     "points": 2,
     "schema_version": 2,
     "solution": true
    },
    "tags": [
     "solution",
     "written",
     "q01"
    ]
   },
   "source": [
    "Content wise, the spam very directly and urgently refers to transactions and the exchange of money. This would be a reasonable motive for spam senders, who could be trying to steal information. The first ham focuses on a debugging issue, unrelated to transactions. What's concerning is that the spam has a pretty good grasp of english syntax, so we probably have to choose some more subtle features to property identify spam."
   ]
  },
  {
   "cell_type": "markdown",
   "metadata": {
    "deletable": false,
    "editable": false,
    "nbgrader": {
     "cell_type": "markdown",
     "checksum": "78b2a5de9976f0492e4325d88e131a47",
     "grade": false,
     "grade_id": "feat-eng",
     "locked": true,
     "schema_version": 2,
     "solution": false
    }
   },
   "source": [
    "# Basic Feature Engineering\n",
    "\n",
    "We would like to take the text of an email and predict whether the text is ham or spam. This is a *classification* problem, so we can use logistic regression to make a classifier. Recall that to train an logistic regression model we need a numeric feature matrix $\\Phi$ (pronounced phi as in wifi) and corresponding binary labels $Y$.  Unfortunately, our data are text, not numbers. To address this, we can create numeric features derived from the email text and use those features for logistic regression.\n",
    "\n",
    "Each row of $\\Phi$ is derived from one email example. Each column of $\\Phi$  is one feature. We'll guide you through creating a simple feature, and you'll create more interesting ones when you are trying to increase your accuracy."
   ]
  },
  {
   "cell_type": "markdown",
   "metadata": {
    "deletable": false,
    "editable": false,
    "nbgrader": {
     "cell_type": "markdown",
     "checksum": "4a6a1160d34bedff1e1a0859a58bf70e",
     "grade": false,
     "grade_id": "q2",
     "locked": true,
     "schema_version": 2,
     "solution": false
    }
   },
   "source": [
    "# Question 2\n",
    "\n",
    "Create a function called `words_in_texts` that takes in a list of `words` and a pandas Series of email `texts`. It should output a 2-dimensional NumPy array containing one row for each email text. The row should contain either a 0 or a 1 for each word in the list: 0 if the word doesn't appear in the text and 1 if the word does. For example:\n",
    "\n",
    "```python\n",
    ">>> words_in_texts(['hello', 'bye', 'world'], \n",
    "                   pd.Series(['hello', 'hello world hello']))\n",
    "\n",
    "array([[1, 0, 0],\n",
    "       [1, 0, 1]])\n",
    "```"
   ]
  },
  {
   "cell_type": "code",
   "execution_count": 12,
   "metadata": {
    "deletable": false,
    "nbgrader": {
     "cell_type": "code",
     "checksum": "296207c542908dd11c481c4f56585743",
     "grade": false,
     "grade_id": "q2-answer",
     "locked": false,
     "schema_version": 2,
     "solution": true
    },
    "tags": [
     "student"
    ]
   },
   "outputs": [],
   "source": [
    "def words_in_texts(words, texts):\n",
    "    '''\n",
    "    Args:\n",
    "        words (list-like): words to find\n",
    "        texts (Series): strings to search in\n",
    "    \n",
    "    Returns:\n",
    "        NumPy array of 0s and 1s with shape (n, p) where n is the\n",
    "        number of texts and p is the number of words.\n",
    "    '''\n",
    "    indicator_array = []\n",
    "    for string in texts:\n",
    "        holder = []\n",
    "        for word in words:\n",
    "            if word in string:\n",
    "                holder.append(1)\n",
    "            else:\n",
    "                holder.append(0)\n",
    "        indicator_array.append(holder)\n",
    "    return np.array(indicator_array)\n",
    "    \n",
    "    "
   ]
  },
  {
   "cell_type": "code",
   "execution_count": 13,
   "metadata": {},
   "outputs": [],
   "source": [
    "import string\n",
    "count = lambda l1, l2: len(list(filter(lambda c: c in l2, l1)))\n",
    "def punc_in_texts(texts):\n",
    "    count = lambda l1, l2: len(list(filter(lambda c: c in l2, l1)))\n",
    "    over = []\n",
    "    for x in texts:\n",
    "        holder = []\n",
    "        holder.append(count(x, string.punctuation))\n",
    "    return np.array(over)\n",
    "\n",
    "        "
   ]
  },
  {
   "cell_type": "code",
   "execution_count": null,
   "metadata": {},
   "outputs": [],
   "source": []
  },
  {
   "cell_type": "code",
   "execution_count": 14,
   "metadata": {},
   "outputs": [
    {
     "data": {
      "text/plain": [
       "array([[1, 0, 0],\n",
       "       [1, 0, 1]])"
      ]
     },
     "execution_count": 14,
     "metadata": {},
     "output_type": "execute_result"
    }
   ],
   "source": [
    "words_in_texts(['hello', 'bye', 'world'], \n",
    "                   pd.Series(['hello', 'hello world hello']))\n",
    "#words_in_texts(['bankruptcy'], train['email'][0])\n"
   ]
  },
  {
   "cell_type": "code",
   "execution_count": 15,
   "metadata": {
    "deletable": false,
    "editable": false,
    "nbgrader": {
     "cell_type": "code",
     "checksum": "6b8eb808ad9b99843c8cd3ad5d20b736",
     "grade": true,
     "grade_id": "q2-tests",
     "locked": true,
     "points": 2,
     "schema_version": 2,
     "solution": false
    },
    "tags": [
     "solution"
    ]
   },
   "outputs": [],
   "source": [
    "# If this doesn't error, your function outputs the correct output for this example\n",
    "assert np.allclose(words_in_texts(['hello', 'bye', 'world'], \n",
    "                                  pd.Series(['hello', 'hello world hello'])),\n",
    "                   np.array([[1, 0, 0], \n",
    "                             [1, 0, 1]]))"
   ]
  },
  {
   "cell_type": "markdown",
   "metadata": {
    "deletable": false,
    "editable": false,
    "nbgrader": {
     "cell_type": "markdown",
     "checksum": "2bacca07aa9b367ec84957d0beb41886",
     "grade": false,
     "grade_id": "eda",
     "locked": true,
     "schema_version": 2,
     "solution": false
    }
   },
   "source": [
    "# Basic EDA\n",
    "\n",
    "Now we need to identify some features that allow us to tell spam and ham emails apart. One idea is to compare the distribution of a single feature in spam emails to the distribution of the same feature in ham emails. If the feature is itself a binary indicator, such as whether a certain word occurs in the text, this amounts to comparing the proportion of spam emails with the word to the proportion of ham emails with the word.\n"
   ]
  },
  {
   "cell_type": "markdown",
   "metadata": {
    "deletable": false,
    "editable": false,
    "nbgrader": {
     "cell_type": "markdown",
     "checksum": "b13eddc109fc8ca94589381ffa188ae3",
     "grade": false,
     "grade_id": "q3a",
     "locked": true,
     "schema_version": 2,
     "solution": false
    }
   },
   "source": [
    "# Question 3a\n",
    "\n",
    "Create a bar chart comparing the proportion of spam and ham emails containing certain words. It should look like the following plot (which was created using `sns.barplot`), but you should choose your own words as candidate features.\n",
    "\n",
    "![training conditional proportions](training_conditional_proportions.png \"Class Conditional Proportions\")\n"
   ]
  },
  {
   "cell_type": "code",
   "execution_count": 16,
   "metadata": {
    "deletable": false,
    "nbgrader": {
     "cell_type": "code",
     "checksum": "c64ceb5b31e1282f8c118e345108f1f2",
     "grade": true,
     "grade_id": "q3a-answer",
     "locked": false,
     "points": 2,
     "schema_version": 2,
     "solution": true
    }
   },
   "outputs": [
    {
     "name": "stdout",
     "output_type": "stream",
     "text": [
      "   money  transaction  business  sex  urgent  label\n",
      "0      0            0         0    0       0      0\n",
      "1      0            0         0    0       0      0\n",
      "2      0            0         0    0       0      0\n",
      "3      0            0         0    0       0      0\n",
      "4      0            0         1    0       0      0\n"
     ]
    },
    {
     "data": {
      "text/plain": [
       "[Text(0,0.5,'Proportion of Emails'), Text(0.5,0,'Word')]"
      ]
     },
     "execution_count": 16,
     "metadata": {},
     "output_type": "execute_result"
    },
    {
     "data": {
      "image/png": "[encoded data removed]",
      "text/plain": [
       "<matplotlib.figure.Figure at 0x7fcddecf5940>"
      ]
     },
     "metadata": {},
     "output_type": "display_data"
    }
   ],
   "source": [
    "words = ['money', 'transaction', 'business', 'sex', 'urgent']\n",
    "df = pd.DataFrame(data=words_in_texts(words, train['email']),\n",
    "                 columns=words)\n",
    "\n",
    "# Temporary\n",
    "df['label'] = train['spam'].values\n",
    "print(df.head())\n",
    "df = df.melt('label')\n",
    "df = df.groupby(['label', 'variable']).mean().reset_index()\n",
    "df.head()\n",
    "\n",
    "#prop_sp = len(train[train['spam']==1])/len(train)\n",
    "#spam_emails = train[train['spam']==1]\n",
    "\n",
    "df['label']= df['label'].replace(0, 'ham')\n",
    "df['label']= df['label'].replace(1, 'spam')\n",
    "\n",
    "#sns.barplot(x=words, y='prop', hue='spam', data=train)\n",
    "ax = sns.barplot(x='variable', y='value', hue='label', data=df)\n",
    "ax.set(xlabel = 'Word', ylabel='Proportion of Emails')\n"
   ]
  },
  {
   "cell_type": "markdown",
   "metadata": {
    "deletable": false,
    "editable": false,
    "nbgrader": {
     "cell_type": "markdown",
     "checksum": "cacc657b9f84fe89c425797255849f69",
     "grade": false,
     "grade_id": "q3b",
     "locked": true,
     "schema_version": 2,
     "solution": false
    }
   },
   "source": [
    "# Question 3b\n",
    "\n",
    "When the feature is binary, it makes sense (as in the previous question) to compare the proportion of 1s in the two classes of email. Otherwise, if the feature can take on many values, it makes sense to compare the distribution under spam to the distribution under ham. Create a *class conditional density plot* like the one below (which was created using `sns.distplot`), comparing the distribution of a feature among all spam emails to the distribution of the same feature among all ham emails. **You may use the Fraction of Uppercase Letters or create your own feature.**\n",
    "\n",
    "![training conditional densities](training_conditional_densities2.png \"Class Conditional Densities\")"
   ]
  },
  {
   "cell_type": "code",
   "execution_count": 17,
   "metadata": {},
   "outputs": [
    {
     "data": {
      "text/plain": [
       "False"
      ]
     },
     "execution_count": 17,
     "metadata": {},
     "output_type": "execute_result"
    }
   ],
   "source": [
    "all([isinstance(elt, str) for elt in train['subject']])"
   ]
  },
  {
   "cell_type": "code",
   "execution_count": 18,
   "metadata": {},
   "outputs": [],
   "source": [
    "new_df = pd.read_csv('data/train.csv')"
   ]
  },
  {
   "cell_type": "code",
   "execution_count": 19,
   "metadata": {},
   "outputs": [
    {
     "data": {
      "text/plain": [
       "0       0.002928\n",
       "1       0.002396\n",
       "2       0.006788\n",
       "3       0.003461\n",
       "4       0.011979\n",
       "5       0.007720\n",
       "6       0.005191\n",
       "7       0.014109\n",
       "8       0.007720\n",
       "9       0.007188\n",
       "10      0.080128\n",
       "11      0.008252\n",
       "12      0.004392\n",
       "13      0.003860\n",
       "14      0.018501\n",
       "15      0.013843\n",
       "16      0.007188\n",
       "17      0.039531\n",
       "18      0.035672\n",
       "19      0.022627\n",
       "20      0.004792\n",
       "21      0.002263\n",
       "22      0.003328\n",
       "23      0.008119\n",
       "24      0.003727\n",
       "25      0.003860\n",
       "26      0.008385\n",
       "27      0.002662\n",
       "28      0.000799\n",
       "29      0.423932\n",
       "          ...   \n",
       "8318    0.002529\n",
       "8319    0.003061\n",
       "8320    0.005723\n",
       "8321    0.007321\n",
       "8322    0.004392\n",
       "8323    0.000932\n",
       "8324    0.016771\n",
       "8325    0.021563\n",
       "8326    0.003993\n",
       "8327    0.003194\n",
       "8328    0.000932\n",
       "8329    0.001997\n",
       "8330    0.019167\n",
       "8331    0.011713\n",
       "8332    0.004392\n",
       "8333    0.000666\n",
       "8334    0.002263\n",
       "8335    0.001464\n",
       "8336    0.005990\n",
       "8337    0.001331\n",
       "8338    0.020764\n",
       "8339    0.009583\n",
       "8340    0.001597\n",
       "8341    0.001331\n",
       "8342    0.002396\n",
       "8343    0.011580\n",
       "8344    0.022228\n",
       "8345    0.027020\n",
       "8346    0.049381\n",
       "8347    0.004925\n",
       "Name: email, Length: 8348, dtype: float64"
      ]
     },
     "execution_count": 19,
     "metadata": {},
     "output_type": "execute_result"
    }
   ],
   "source": [
    "new_df['email'].str.findall('[A-Z]').apply(len) / len(train)"
   ]
  },
  {
   "cell_type": "code",
   "execution_count": 20,
   "metadata": {
    "deletable": false,
    "nbgrader": {
     "cell_type": "code",
     "checksum": "60246643e0caaa562f6a6ac6814ae0c0",
     "grade": true,
     "grade_id": "q3b-answer",
     "locked": false,
     "points": 2,
     "schema_version": 2,
     "solution": true
    }
   },
   "outputs": [
    {
     "name": "stderr",
     "output_type": "stream",
     "text": [
      "/srv/conda/envs/data100/lib/python3.6/site-packages/ipykernel_launcher.py:6: SettingWithCopyWarning: \n",
      "A value is trying to be set on a copy of a slice from a DataFrame.\n",
      "Try using .loc[row_indexer,col_indexer] = value instead\n",
      "\n",
      "See the caveats in the documentation: http://pandas.pydata.org/pandas-docs/stable/indexing.html#indexing-view-versus-copy\n",
      "  \n"
     ]
    },
    {
     "data": {
      "text/plain": [
       "<matplotlib.axes._subplots.AxesSubplot at 0x7fcdde3938d0>"
      ]
     },
     "execution_count": 20,
     "metadata": {},
     "output_type": "execute_result"
    },
    {
     "data": {
      "image/png": "[encoded data removed]",
      "text/plain": [
       "<matplotlib.figure.Figure at 0x7fcddea15cf8>"
      ]
     },
     "metadata": {},
     "output_type": "display_data"
    }
   ],
   "source": [
    "#train['upper'] = sum(map(str.isupper, str(train['subject'])))/len(train)\n",
    "#sp = new_df[new_df['spam']==1]\n",
    "#hi = sp['email'].str.findall('[A-Z]').apply(len)\n",
    "#bye = sp['email'].str.findall('[a-zA-Z]').apply(len)\n",
    "#spam_col = sp['email'].str.findall('[A-Z]').apply(len) /  sp['email'].str.findall('[a-zA-Z]').apply(len)\n",
    "train['upper'] = new_df['email'].str.findall('[A-Z]').apply(len) /  new_df['email'].str.findall('[a-zA-Z]').apply(len)\n",
    "sp = train[train['spam']==1]\n",
    "ham = train[train['spam']==0]\n",
    "sns.distplot(sp['upper'], hist=True, label = 'Spam')\n",
    "sns.distplot(ham['upper'], hist=True, label = 'Ham')\n"
   ]
  },
  {
   "cell_type": "markdown",
   "metadata": {
    "deletable": false,
    "editable": false,
    "nbgrader": {
     "cell_type": "markdown",
     "checksum": "0d13d7ef0cdd07a7ad8d0a49cdddba9b",
     "grade": false,
     "grade_id": "classification",
     "locked": true,
     "schema_version": 2,
     "solution": false
    }
   },
   "source": [
    "# Basic Classification\n",
    "\n",
    "Notice that the output of `words_in_texts(words, train['email'])` is a numeric matrix containing features for each email. This means we can use it directly to train a classifier!"
   ]
  },
  {
   "cell_type": "markdown",
   "metadata": {
    "deletable": false,
    "editable": false,
    "nbgrader": {
     "cell_type": "markdown",
     "checksum": "a704638a2aa116d175cec5d54011390e",
     "grade": false,
     "grade_id": "q4",
     "locked": true,
     "schema_version": 2,
     "solution": false
    }
   },
   "source": [
    "# Question 4\n",
    "\n",
    "We've given you 5 words that might be useful as features to distinguish spam/ham emails. Use these words as well as the `train` DataFrame to create two NumPy arrays: `Phi_train` and `Y_train`.\n",
    "\n",
    "`Phi_train` should be a matrix of 0s and 1s created by using your `words_in_texts` function on all the emails in the training set.\n",
    "\n",
    "`Y_train` should be a vector of the correct labels for each email in the training set."
   ]
  },
  {
   "cell_type": "code",
   "execution_count": 21,
   "metadata": {
    "deletable": false,
    "nbgrader": {
     "cell_type": "code",
     "checksum": "8b93048015e15c7af26cd4a47e611109",
     "grade": false,
     "grade_id": "q4-answer",
     "locked": false,
     "schema_version": 2,
     "solution": true
    },
    "tags": [
     "student"
    ]
   },
   "outputs": [
    {
     "data": {
      "text/plain": [
       "(array([[0, 0, 0, 0, 0],\n",
       "        [0, 0, 0, 0, 0],\n",
       "        [0, 0, 0, 0, 0],\n",
       "        [0, 0, 0, 0, 0],\n",
       "        [0, 0, 0, 1, 0]]), 7657    0\n",
       " 6911    0\n",
       " 6074    0\n",
       " 4376    0\n",
       " 5766    0\n",
       " Name: spam, dtype: int64)"
      ]
     },
     "execution_count": 21,
     "metadata": {},
     "output_type": "execute_result"
    }
   ],
   "source": [
    "some_words = ['drug', 'bank', 'prescription', 'memo', 'private']\n",
    "\n",
    "Phi_train = words_in_texts(some_words, train['email'])\n",
    "Y_train = train['spam']\n",
    "\n",
    "#X_test = words_in_texts(some_words, test['email'])\n",
    "#Y_test = test['spam']\n",
    "\n",
    "Phi_train[:5], Y_train[:5]\n",
    "#Phi_train[0]"
   ]
  },
  {
   "cell_type": "code",
   "execution_count": 22,
   "metadata": {
    "deletable": false,
    "editable": false,
    "nbgrader": {
     "cell_type": "code",
     "checksum": "e379ae3ce1967f869f7d7e731ae0f75a",
     "grade": true,
     "grade_id": "q4-tests",
     "locked": true,
     "points": 2,
     "schema_version": 2,
     "solution": false
    }
   },
   "outputs": [],
   "source": [
    "assert np.all(np.unique(Phi_train) == np.array([0, 1]))\n",
    "assert np.all(np.unique(Y_train) == np.array([0, 1]))\n",
    "assert Phi_train.shape[0] == Y_train.shape[0]\n",
    "assert Phi_train.shape[1] == len(some_words)"
   ]
  },
  {
   "cell_type": "markdown",
   "metadata": {
    "deletable": false,
    "editable": false,
    "nbgrader": {
     "cell_type": "markdown",
     "checksum": "2d67277515ec86e13df560be7fb273f4",
     "grade": false,
     "grade_id": "q5",
     "locked": true,
     "schema_version": 2,
     "solution": false
    }
   },
   "source": [
    "# Question 5\n",
    "\n",
    "Now we have matrices we can give to scikit-learn! Using the [`LogisticRegression`](http://scikit-learn.org/stable/modules/generated/sklearn.linear_model.LogisticRegression.html) classifier, train a logistic regression model using `Phi_train` and `Y_train`. Then, output the accuracy of the model (on the training data) in the cell below. You should get an accuracy of around 0.75."
   ]
  },
  {
   "cell_type": "code",
   "execution_count": 23,
   "metadata": {},
   "outputs": [
    {
     "data": {
      "text/plain": [
       "array([[0, 0, 0, 0, 0],\n",
       "       [0, 0, 0, 0, 0],\n",
       "       [0, 0, 0, 0, 0],\n",
       "       ..., \n",
       "       [0, 0, 0, 0, 0],\n",
       "       [0, 0, 0, 0, 0],\n",
       "       [0, 0, 0, 0, 0]])"
      ]
     },
     "execution_count": 23,
     "metadata": {},
     "output_type": "execute_result"
    }
   ],
   "source": [
    "Phi_train"
   ]
  },
  {
   "cell_type": "code",
   "execution_count": 24,
   "metadata": {
    "deletable": false,
    "nbgrader": {
     "cell_type": "code",
     "checksum": "a45837a9efac1b9ab3824f860e9ddc1a",
     "grade": false,
     "grade_id": "q5-answer",
     "locked": false,
     "schema_version": 2,
     "solution": true
    },
    "tags": [
     "student"
    ]
   },
   "outputs": [],
   "source": [
    "from sklearn.linear_model import LogisticRegression\n",
    "lr = LogisticRegression(fit_intercept=True)\n",
    "\n",
    "lr.fit(Phi_train, Y_train)\n",
    "\n",
    "training_accuracy = (1/len(Phi_train)) * np.sum(lr.predict(Phi_train) == Y_train)"
   ]
  },
  {
   "cell_type": "code",
   "execution_count": 25,
   "metadata": {},
   "outputs": [
    {
     "data": {
      "text/plain": [
       "0.75762012511646482"
      ]
     },
     "execution_count": 25,
     "metadata": {},
     "output_type": "execute_result"
    }
   ],
   "source": [
    "training_accuracy"
   ]
  },
  {
   "cell_type": "code",
   "execution_count": 26,
   "metadata": {
    "deletable": false,
    "editable": false,
    "nbgrader": {
     "cell_type": "code",
     "checksum": "1133eaddd64442a3139615c57864c60e",
     "grade": true,
     "grade_id": "q5-tests",
     "locked": true,
     "points": 2,
     "schema_version": 2,
     "solution": false
    },
    "tags": [
     "solution"
    ]
   },
   "outputs": [],
   "source": [
    "assert training_accuracy > 0.72"
   ]
  },
  {
   "cell_type": "markdown",
   "metadata": {
    "deletable": false,
    "editable": false,
    "nbgrader": {
     "cell_type": "markdown",
     "checksum": "2ccbf7ec8e32a2963fac3ca5624407d0",
     "grade": false,
     "grade_id": "q6",
     "locked": true,
     "schema_version": 2,
     "solution": false
    }
   },
   "source": [
    "# Question 6\n",
    "\n",
    "That doesn't seem too shabby! But the classifier you made above isn't as good as this might lead us to believe. First, we are evaluating on the training set, which may lead to a misleading accuracy measure, especially if we used the training set to identify discriminative features. In future parts of this analysis, it will be safer to hold out some of our data for model validation and comparison.\n",
    "\n",
    "Presumably, our classifier will be used for **filtering**, i.e. preventing messages labelled `spam` from reaching someone's inbox. Since we are trying  There are two kinds of errors we can make:\n",
    "- False positive (FP): a ham email gets flagged as spam and filtered out of the inbox.\n",
    "- False negative (FN): a spam email gets mislabelled as ham and ends up in the inbox.\n",
    "\n",
    "These definitions depend both on the true labels and the predicted labels. False positives and false negatives may be of differing importance, leading us to consider more ways of evaluating a classifier, in addition to overall accuracy:\n",
    "\n",
    "**Precision** measures the proportion $\\frac{\\text{TP}}{\\text{TP} + \\text{FP}}$ of emails flagged as spam that are actually spam.\n",
    "\n",
    "**Recall** measures the proportion $\\frac{\\text{TP}}{\\text{TP} + \\text{FN}}$ of spam emails that were correctly flagged as spam. \n",
    "\n",
    "**False-alarm rate** measures the proportion $\\frac{\\text{FP}}{\\text{FP} + \\text{TN}}$ of ham emails that were incorrectly flagged as spam. \n",
    "\n",
    "The following image might help:\n",
    "\n",
    "<img src=\"https://upload.wikimedia.org/wikipedia/commons/thumb/2/26/Precisionrecall.svg/700px-Precisionrecall.svg.png\" width=\"500px\">\n",
    "\n",
    "Note that a true positive (TP) is a spam email that is classified as spam, and a true negative (TN) is a ham email that is classified as ham. Answer the following questions in the cells below:\n",
    "\n",
    "- (a) Suppose we have a classifier that just predicts 0 (ham) for every email. How many false positives are there? How many false negatives are there? Provide specific numbers using the training data from Question 4.\n",
    "- (b) Suppose we have a classifier that just predicts 0 (ham) for every email. What is its accuracy on the training set? What is its recall on the training set?\n",
    "- (c) What are the precision, recall, and false-alarm rate of the logistic regression classifier in Question 5? Are there more false positives or false negatives? \n",
    "- (d) Our logistic regression classifier got 75.6% prediction accuracy (number of correct predictions / total). How does this compare with predicting 0 for every email?\n",
    "- (e) Given the word features we gave you above, name one reason this classifier is performing poorly.\n",
    "- (f) Which of these two classifiers would you prefer for a spam filter and why? (N.B. there is no \"right answer\" here but be thoughtful in your reasoning)."
   ]
  },
  {
   "cell_type": "code",
   "execution_count": 27,
   "metadata": {},
   "outputs": [
    {
     "data": {
      "text/plain": [
       "array([ 0.,  0.,  0., ...,  0.,  0.,  0.])"
      ]
     },
     "execution_count": 27,
     "metadata": {},
     "output_type": "execute_result"
    }
   ],
   "source": [
    "from sklearn.dummy import DummyRegressor as dr\n",
    "fake_friends = dr(strategy='constant',constant=0)\n",
    "fake_friends.fit(Phi_train, Y_train)\n",
    "fake_data = fake_friends.predict(Phi_train)\n",
    "fake_data"
   ]
  },
  {
   "cell_type": "code",
   "execution_count": 28,
   "metadata": {},
   "outputs": [
    {
     "name": "stdout",
     "output_type": "stream",
     "text": [
      "Confusion matrix, without normalization\n",
      "[[5595    0]\n",
      " [1918    0]]\n",
      "Normalized confusion matrix\n",
      "[[ 1.  0.]\n",
      " [ 1.  0.]]\n"
     ]
    },
    {
     "data": {
      "image/png": "[encoded data removed]",
      "text/plain": [
       "<matplotlib.figure.Figure at 0x7fcddde220b8>"
      ]
     },
     "metadata": {},
     "output_type": "display_data"
    },
    {
     "data": {
      "image/png": "[encoded data removed]",
      "text/plain": [
       "<matplotlib.figure.Figure at 0x7fcddde226a0>"
      ]
     },
     "metadata": {},
     "output_type": "display_data"
    }
   ],
   "source": [
    "from sklearn.metrics import confusion_matrix\n",
    "\n",
    "dum_matrix = confusion_matrix(Y_train, fake_friends.predict(Phi_train))\n",
    "\n",
    "def plot_confusion_matrix(cm, classes,\n",
    "                          normalize=False,\n",
    "                          title='Confusion matrix',\n",
    "                          cmap=plt.cm.Blues):\n",
    "    \"\"\"\n",
    "    This function prints and plots the confusion matrix.\n",
    "    Normalization can be applied by setting `normalize=True`.\n",
    "    \"\"\"\n",
    "    import itertools\n",
    "    if normalize:\n",
    "        cm = cm.astype('float') / cm.sum(axis=1)[:, np.newaxis]\n",
    "        print(\"Normalized confusion matrix\")\n",
    "    else:\n",
    "        print('Confusion matrix, without normalization')\n",
    "\n",
    "    print(cm)\n",
    "\n",
    "    plt.imshow(cm, interpolation='nearest', cmap=cmap)\n",
    "    plt.title(title)\n",
    "    plt.colorbar()\n",
    "    tick_marks = np.arange(len(classes))\n",
    "    plt.xticks(tick_marks, classes, rotation=45)\n",
    "    plt.yticks(tick_marks, classes)\n",
    "\n",
    "    fmt = '.2f' if normalize else 'd'\n",
    "    thresh = cm.max() / 2.\n",
    "    for i, j in itertools.product(range(cm.shape[0]), range(cm.shape[1])):\n",
    "        plt.text(j, i, format(cm[i, j], fmt),\n",
    "                 horizontalalignment=\"center\",\n",
    "                 color=\"white\" if cm[i, j] > thresh else \"black\")\n",
    "\n",
    "    plt.tight_layout()\n",
    "    plt.ylabel('True label')\n",
    "    plt.xlabel('Predicted label')\n",
    "    \n",
    "class_names = ['False', 'True']\n",
    "# Plot non-normalized confusion matrix\n",
    "plt.figure()\n",
    "plot_confusion_matrix(dum_matrix, classes=class_names,\n",
    "                      title='Confusion matrix, without normalization')\n",
    "\n",
    "# Plot normalized confusion matrix\n",
    "plt.figure()\n",
    "plot_confusion_matrix(dum_matrix, classes=class_names, normalize=True,\n",
    "                      title='Normalized confusion matrix')"
   ]
  },
  {
   "cell_type": "code",
   "execution_count": 29,
   "metadata": {
    "deletable": false,
    "nbgrader": {
     "cell_type": "code",
     "checksum": "fb6be2a577f65651b583021d052505f3",
     "grade": false,
     "grade_id": "q6a-answer",
     "locked": false,
     "schema_version": 2,
     "solution": true
    }
   },
   "outputs": [],
   "source": [
    "# provide number of FP and FN, respectively,\n",
    "# for a classifier that always predicts 0 (never predicts positive...)\n",
    "zero_predictor_fp = 0\n",
    "zero_predictor_fn = 1918\n",
    "\n",
    "# false positives are ham that are labelelled spam. for a classifier that always predicts 0, all ham are labelled ham. \n",
    "# false negatives are spam that are labelled ham. for a classifier that always predicts 0, all spam are labelled ham. we need\n",
    "    # find the amount of ham labelled items that are actually spam. \n"
   ]
  },
  {
   "cell_type": "code",
   "execution_count": 30,
   "metadata": {
    "deletable": false,
    "editable": false,
    "nbgrader": {
     "cell_type": "code",
     "checksum": "4170e6f271d97eab6ab77523d0c9689c",
     "grade": true,
     "grade_id": "q6a-tests",
     "locked": true,
     "points": 2,
     "schema_version": 2,
     "solution": false
    }
   },
   "outputs": [],
   "source": [
    "# This is a cell with just a comment but don't delete me if you want to get credit."
   ]
  },
  {
   "cell_type": "code",
   "execution_count": 31,
   "metadata": {
    "deletable": false,
    "nbgrader": {
     "cell_type": "code",
     "checksum": "551cfb296a0d066ef7f88a4450cd56f2",
     "grade": false,
     "grade_id": "q6b-answer",
     "locked": false,
     "schema_version": 2,
     "solution": true
    }
   },
   "outputs": [
    {
     "data": {
      "text/plain": [
       "[0.74470917077066423, 0.0]"
      ]
     },
     "execution_count": 31,
     "metadata": {},
     "output_type": "execute_result"
    }
   ],
   "source": [
    "# provide training accuracy & recall, respectively,\n",
    "# for a classifier that always predicts 0\n",
    "zero_predictor_acc = (1/len(Phi_train)) * np.sum(fake_friends.predict(Phi_train) == Y_train)\n",
    "zero_predictor_recall = dum_matrix[1][1]/(dum_matrix[1][1] + dum_matrix[1][0])\n",
    "\n",
    "lis = [zero_predictor_acc, zero_predictor_recall]\n",
    "lis"
   ]
  },
  {
   "cell_type": "code",
   "execution_count": 32,
   "metadata": {
    "deletable": false,
    "editable": false,
    "nbgrader": {
     "cell_type": "code",
     "checksum": "2da0a2fd20e7773dc36190301cee53f5",
     "grade": true,
     "grade_id": "q6b-tests",
     "locked": true,
     "points": 2,
     "schema_version": 2,
     "solution": false
    }
   },
   "outputs": [],
   "source": [
    "# This is a cell with just a comment but don't delete me if you want to get credit."
   ]
  },
  {
   "cell_type": "code",
   "execution_count": 33,
   "metadata": {},
   "outputs": [
    {
     "name": "stdout",
     "output_type": "stream",
     "text": [
      "Confusion matrix, without normalization\n",
      "[[5473  122]\n",
      " [1699  219]]\n",
      "Normalized confusion matrix\n",
      "[[ 0.97819482  0.02180518]\n",
      " [ 0.88581856  0.11418144]]\n"
     ]
    },
    {
     "data": {
      "image/png": "[encoded data removed]",
      "text/plain": [
       "<matplotlib.figure.Figure at 0x7fcddea15f98>"
      ]
     },
     "metadata": {},
     "output_type": "display_data"
    },
    {
     "data": {
      "image/png": "[encoded data removed]",
      "text/plain": [
       "<matplotlib.figure.Figure at 0x7fcdd0ee8710>"
      ]
     },
     "metadata": {},
     "output_type": "display_data"
    }
   ],
   "source": [
    "from sklearn.metrics import confusion_matrix\n",
    "\n",
    "cnf_matrix = confusion_matrix(Y_train, lr.predict(Phi_train))\n",
    "\n",
    "def plot_confusion_matrix(cm, classes,\n",
    "                          normalize=False,\n",
    "                          title='Confusion matrix',\n",
    "                          cmap=plt.cm.Blues):\n",
    "    \"\"\"\n",
    "    This function prints and plots the confusion matrix.\n",
    "    Normalization can be applied by setting `normalize=True`.\n",
    "    \"\"\"\n",
    "    import itertools\n",
    "    if normalize:\n",
    "        cm = cm.astype('float') / cm.sum(axis=1)[:, np.newaxis]\n",
    "        print(\"Normalized confusion matrix\")\n",
    "    else:\n",
    "        print('Confusion matrix, without normalization')\n",
    "\n",
    "    print(cm)\n",
    "\n",
    "    plt.imshow(cm, interpolation='nearest', cmap=cmap)\n",
    "    plt.title(title)\n",
    "    plt.colorbar()\n",
    "    tick_marks = np.arange(len(classes))\n",
    "    plt.xticks(tick_marks, classes, rotation=45)\n",
    "    plt.yticks(tick_marks, classes)\n",
    "\n",
    "    fmt = '.2f' if normalize else 'd'\n",
    "    thresh = cm.max() / 2.\n",
    "    for i, j in itertools.product(range(cm.shape[0]), range(cm.shape[1])):\n",
    "        plt.text(j, i, format(cm[i, j], fmt),\n",
    "                 horizontalalignment=\"center\",\n",
    "                 color=\"white\" if cm[i, j] > thresh else \"black\")\n",
    "\n",
    "    plt.tight_layout()\n",
    "    plt.ylabel('True label')\n",
    "    plt.xlabel('Predicted label')\n",
    "    \n",
    "class_names = ['False', 'True']\n",
    "# Plot non-normalized confusion matrix\n",
    "plt.figure()\n",
    "plot_confusion_matrix(cnf_matrix, classes=class_names,\n",
    "                      title='Confusion matrix, without normalization')\n",
    "\n",
    "# Plot normalized confusion matrix\n",
    "plt.figure()\n",
    "plot_confusion_matrix(cnf_matrix, classes=class_names, normalize=True,\n",
    "                      title='Normalized confusion matrix')"
   ]
  },
  {
   "cell_type": "code",
   "execution_count": 34,
   "metadata": {},
   "outputs": [
    {
     "data": {
      "text/plain": [
       "0.11418143899895725"
      ]
     },
     "execution_count": 34,
     "metadata": {},
     "output_type": "execute_result"
    }
   ],
   "source": [
    "cnf_matrix[1][1]/(cnf_matrix[1][1] + cnf_matrix[1][0])"
   ]
  },
  {
   "cell_type": "code",
   "execution_count": 35,
   "metadata": {
    "deletable": false,
    "nbgrader": {
     "cell_type": "code",
     "checksum": "d3775f0397ec6a892683277ff9bb041d",
     "grade": false,
     "grade_id": "q6c-answer",
     "locked": false,
     "schema_version": 2,
     "solution": true
    }
   },
   "outputs": [
    {
     "data": {
      "text/plain": [
       "[0.64222873900293254, 0.11418143899895725, 0.021805183199285077]"
      ]
     },
     "execution_count": 35,
     "metadata": {},
     "output_type": "execute_result"
    }
   ],
   "source": [
    "# provide training accuracy & recall, respectively,\n",
    "# for logistic regression classifier from question 5\n",
    "logistic_predictor_precision = cnf_matrix[1][1]/(cnf_matrix[1][1] + cnf_matrix[0][1])\n",
    "logistic_predictor_recall = cnf_matrix[1][1]/(cnf_matrix[1][1] + cnf_matrix[1][0])\n",
    "logistic_predictor_far = cnf_matrix[0][1]/(cnf_matrix[0][1] + cnf_matrix[0][0])\n",
    "\n",
    "lis2 = [logistic_predictor_precision, logistic_predictor_recall, logistic_predictor_far]\n",
    "lis2"
   ]
  },
  {
   "cell_type": "code",
   "execution_count": 36,
   "metadata": {
    "deletable": false,
    "editable": false,
    "nbgrader": {
     "cell_type": "code",
     "checksum": "1d5da8b3485c912e0e04d5a4cb125678",
     "grade": true,
     "grade_id": "q6c-tests",
     "locked": true,
     "points": 2,
     "schema_version": 2,
     "solution": false
    }
   },
   "outputs": [],
   "source": [
    "# This is a cell with just a comment but don't delete me if you want to get credit."
   ]
  },
  {
   "cell_type": "markdown",
   "metadata": {
    "deletable": false,
    "nbgrader": {
     "cell_type": "markdown",
     "checksum": "b0c889c63a8057b74c02d98a0b25e392",
     "grade": true,
     "grade_id": "q6-written",
     "locked": false,
     "points": 3,
     "schema_version": 2,
     "solution": true
    },
    "tags": [
     "solution",
     "written",
     "q06"
    ]
   },
   "source": [
    "a. For a classifier that always predicts 0 or negative/non-ham for emails, there will be 0 false positives and 1918 false negatives.\n",
    "\n",
    "b. For the same classifier, its accuracy will be .7447091707706642 and the recall is 0. \n",
    "\n",
    "c. The logistic regression classifier in Q5 has a precision of .64222879003, recall of 0.11418143899895725, and a false-alarm rate of 0.021805183199285077.\n",
    "\n",
    "d. Considering the dummy predictor has an accuracy of around 74.5 percent and we have an accuracy of around 75.6 percent, this indicates that our model is not being trained on meaningful features. Our accuracy is only slightly better than saying EVERYTHING is ham and sending it all to the inbox.\n",
    "\n",
    "e. This classifier could be performing poorly because our features are weak. We are only checking occurences of these specific words, not even how many times they occur (emails that say \"money\" or transaction\" 5 times versus 1 time are more likely to be spam, in my hypothesis). Also, we are predicting on very few words overall.  This doesn't even address grammatical issues, occurrence of links, or capital letters. \n",
    "\n",
    "f. I would still rather use the logistic regressor since there is a slightly higher accuracy, and at least there is some sort of logic / feature behind the model, rather than predicting everything as 0. Also, I can actually add features and improve the model myself, which I plan to do. "
   ]
  },
  {
   "cell_type": "markdown",
   "metadata": {
    "deletable": false,
    "editable": false,
    "nbgrader": {
     "cell_type": "markdown",
     "checksum": "420d757256a0c1fd96228b7f622682bb",
     "grade": false,
     "grade_id": "p2",
     "locked": true,
     "schema_version": 2,
     "solution": false
    }
   },
   "source": [
    "# Part II - Moving Forward\n",
    "\n",
    "With this in mind, it is now your task to make the spam filter more accurate. In order to get full credit on the accuracy part of this assignment, you must get at least **88%** accuracy on the evaluation set. To see your accuracy on the evaluation set, you will use your classifier to predict every email in the `evaluation` DataFrame and upload your predictions to Kaggle.\n",
    "\n",
    "To prevent you from fitting to the evaluation set, you may only upload predictions to Kaggle twice per day. This means you should start early and rely on your **test data** to estimate your Kaggle scores.  \n",
    "\n",
    "Here are some ideas for improving your model:\n",
    "\n",
    "1. Finding better features based on the email text. Some example features are:\n",
    "    1. Number of characters in the subject / body\n",
    "    1. Number of words in the subject / body\n",
    "    1. Use of punctuation (e.g., how many '!' were there?)\n",
    "    1. Number / percentage of capital letters \n",
    "    1. Whether the email is a reply to an earlier email or a forwarded email\n",
    "1. Finding better words to use as features. Which words are the best at distinguishing emails? This requires digging into the email text itself. \n",
    "1. Better data processing. For example, many emails contain HTML as well as text. You can consider extracting out the text from the HTML to help you find better words. Or, you can match HTML tags themselves, or even some combination of the two.\n",
    "1. Model selection. You can adjust parameters of your model (e.g. the regularization parameter) to achieve higher accuracy. Recall that you should use cross-validation to do feature and model selection properly! Otherwise, you will likely overfit to your training data.\n",
    "\n",
    "You may use whatever method you prefer in order to create features. However, **you are only allowed to train logistic regression models and their regularized forms**. This means no random forest, k-nearest-neighbors, neural nets, etc.\n",
    "\n",
    "We will not give you a code skeleton to do this, so feel free to create as many cells as you need in order to tackle this task. However, answering questions 7, 8, and 9 should help guide you.\n",
    "\n",
    "---\n",
    "\n",
    "**Note:** *You should use the **test data** to evaluate your model and get a better sense of how it will perform on the Kaggle evaluation.*\n",
    "\n",
    "---"
   ]
  },
  {
   "cell_type": "code",
   "execution_count": 37,
   "metadata": {},
   "outputs": [],
   "source": [
    "spamlist = train[train['spam'] == 1]['email'].tolist()\n",
    "hamlist = train[train['spam']==0]['email'].tolist()"
   ]
  },
  {
   "cell_type": "code",
   "execution_count": 38,
   "metadata": {},
   "outputs": [],
   "source": [
    "import re\n",
    "spamlist = [re.sub('<[A-Za-z\\/][^>]*>', '', x) for x in spamlist]\n",
    "clean = [re.sub('<[A-Za-z\\/][^>]*>', '', x) for x in train['email']]"
   ]
  },
  {
   "cell_type": "code",
   "execution_count": 222,
   "metadata": {},
   "outputs": [
    {
     "name": "stderr",
     "output_type": "stream",
     "text": [
      "/srv/conda/envs/data100/lib/python3.6/site-packages/ipykernel_launcher.py:5: SettingWithCopyWarning: \n",
      "A value is trying to be set on a copy of a slice from a DataFrame.\n",
      "Try using .loc[row_indexer,col_indexer] = value instead\n",
      "\n",
      "See the caveats in the documentation: http://pandas.pydata.org/pandas-docs/stable/indexing.html#indexing-view-versus-copy\n",
      "  \"\"\"\n",
      "/srv/conda/envs/data100/lib/python3.6/site-packages/ipykernel_launcher.py:6: SettingWithCopyWarning: \n",
      "A value is trying to be set on a copy of a slice from a DataFrame.\n",
      "Try using .loc[row_indexer,col_indexer] = value instead\n",
      "\n",
      "See the caveats in the documentation: http://pandas.pydata.org/pandas-docs/stable/indexing.html#indexing-view-versus-copy\n",
      "  \n",
      "/srv/conda/envs/data100/lib/python3.6/site-packages/ipykernel_launcher.py:7: SettingWithCopyWarning: \n",
      "A value is trying to be set on a copy of a slice from a DataFrame.\n",
      "Try using .loc[row_indexer,col_indexer] = value instead\n",
      "\n",
      "See the caveats in the documentation: http://pandas.pydata.org/pandas-docs/stable/indexing.html#indexing-view-versus-copy\n",
      "  import sys\n"
     ]
    }
   ],
   "source": [
    "# ADDING THREE FEATURES, PUNCTUATION COUNT, EXCLAMATION COUNT, AND NUMBER COUNT IN TEXT\n",
    "import string\n",
    "count = lambda l1, l2: len(list(filter(lambda c: c in l2, l1)))\n",
    "punct_count = [count(x, string.punctuation) for x in spamlist]\n",
    "train['punct_count'] = [count(x, string.punctuation) for x in train['email']]\n",
    "train['exclam_count'] = [count(x, ['!']) for x in train['email']]\n",
    "train['numnums'] = [count(x, string.digits) for x in train['email']]"
   ]
  },
  {
   "cell_type": "code",
   "execution_count": 308,
   "metadata": {},
   "outputs": [],
   "source": [
    "new_words = ['sex', 'sexy', 'virgin', 'girls', 'member', 'payment','zimbabwe', 'promotion',\n",
    "             'viagra', 'referral','domain', 'today', 'increase', 'cam', 'babes', 'instant',\n",
    "             'business', 'you', 'money', 'wealthy', 'hong kong', 'loan', 'debt', 'credit',\n",
    "            'mortgage','transaction', 'confidentiality','urgent', 'debit', 'drugs', 'erection',\n",
    "            'orgasms', 'orgasm', 'blood pressure', 'web site', 'webstie', 'click', 'special offer',\n",
    "            'free', 'lowest', 'weight loss', 'chance', 'schoolgirls', 'celebes', 'xxx', 'sex show',\n",
    "            'sex shows', 'live', 'membership', 'lifetime', 'freaky', 'porn', 'insurance', 'sierra leone',\n",
    "            'million', 'longest', 'sexual', 'cash', 'online', 'program', 'professional', 'check',\n",
    "            'fastest', 'biggest','pleasure', 'lesbian', 'ad', 'advertisers', 'advertise', 'play',\n",
    "            'promo', 'priority', 'maximum', 'audience', 'deposit', 'eligible', 'prank', 'obligated',\n",
    "            'fill out','bank account', 'ivory coast', 'professional', 'erotischen']\n",
    "\n",
    "save_words = ['erotischen', 'business', 'money', 'transaction', 'deposit', 'prank', 'insurance', 'lowest', 'urgent', 'cam',\n",
    "              'instant', 'mortgage', 'million', 'confidentiality', 'drugs', 'click', 'increase', 'membership', 'promo',\n",
    "              'priority', 'cash', 'bank', 'you', 'special', 'offer', 'zimbabwe', 'obligated', 'best', 'loan', 'viagra',\n",
    "             'promotion', 'live', 'weight', 'helvetica', 'html', '/n', 'now', 'play', 'receive', 'software', 'financial',\n",
    "             'available', 'few', 'contact', 'government', 'enenkio']\n",
    "Phi2_train = words_in_texts(save_words, train['email'])\n",
    "Y2_test = train['spam']"
   ]
  },
  {
   "cell_type": "code",
   "execution_count": 309,
   "metadata": {},
   "outputs": [],
   "source": [
    "x2t = words_in_texts(save_words, test['email'])\n",
    "y2t = test['spam']"
   ]
  },
  {
   "cell_type": "code",
   "execution_count": 312,
   "metadata": {},
   "outputs": [
    {
     "data": {
      "text/plain": [
       "0.89580838323353296"
      ]
     },
     "execution_count": 312,
     "metadata": {},
     "output_type": "execute_result"
    }
   ],
   "source": [
    "interreg = LogisticRegression(penalty='l1',fit_intercept=True)\n",
    "interreg.fit(Phi2_train, Y2_test)\n",
    "scorereg = interreg.score(x2t, y2t)\n",
    "scorereg"
   ]
  },
  {
   "cell_type": "code",
   "execution_count": 241,
   "metadata": {},
   "outputs": [],
   "source": [
    "x_test = words_in_texts(new_words, test['email'])\n",
    "y_test = test['spam']\n"
   ]
  },
  {
   "cell_type": "code",
   "execution_count": 232,
   "metadata": {},
   "outputs": [
    {
     "data": {
      "text/plain": [
       "[('the', 3085),\n",
       " ('to', 2362),\n",
       " ('of', 1971),\n",
       " ('and', 1799),\n",
       " ('you', 1421),\n",
       " ('a', 1368),\n",
       " ('for', 999),\n",
       " ('your', 989),\n",
       " ('in', 963),\n",
       " ('is', 808),\n",
       " ('<td', 799),\n",
       " ('this', 722),\n",
       " ('=', 610),\n",
       " ('that', 558),\n",
       " ('<br>', 498),\n",
       " ('are', 492),\n",
       " ('be', 480),\n",
       " ('with', 479),\n",
       " ('on', 470),\n",
       " ('have', 452),\n",
       " ('</tr>', 448),\n",
       " ('<p', 447),\n",
       " ('or', 447),\n",
       " ('i', 433),\n",
       " ('will', 427),\n",
       " ('our', 399),\n",
       " ('as', 385),\n",
       " ('we', 379),\n",
       " ('not', 371),\n",
       " ('from', 370),\n",
       " ('<tr>', 369),\n",
       " ('by', 341),\n",
       " ('it', 332),\n",
       " ('<font', 328),\n",
       " ('-', 327),\n",
       " ('email', 293),\n",
       " ('if', 285),\n",
       " ('all', 276),\n",
       " ('can', 274),\n",
       " ('</td>', 268),\n",
       " ('<a', 257),\n",
       " ('helvetica,', 255),\n",
       " ('<div', 243),\n",
       " ('<table', 237),\n",
       " ('free', 230),\n",
       " ('an', 226),\n",
       " ('at', 224),\n",
       " ('face=\"verdana\"><font', 210),\n",
       " ('do', 208),\n",
       " ('get', 203),\n",
       " ('no', 197),\n",
       " ('</table>', 174),\n",
       " ('out', 174),\n",
       " ('my', 174),\n",
       " ('any', 173),\n",
       " ('new', 173),\n",
       " ('please', 167),\n",
       " ('one', 165),\n",
       " ('people', 164),\n",
       " ('<blockquote><font', 158),\n",
       " ('was', 158),\n",
       " ('more', 153),\n",
       " ('sans-serif\"', 153),\n",
       " ('money', 150),\n",
       " ('arial,', 149),\n",
       " ('business', 148),\n",
       " ('<tr>=20', 146),\n",
       " ('=20', 144),\n",
       " ('us', 140),\n",
       " ('just', 135),\n",
       " ('has', 134),\n",
       " ('site', 132),\n",
       " ('web', 127),\n",
       " ('receive', 127),\n",
       " ('click', 125),\n",
       " ('how', 125),\n",
       " ('so', 124),\n",
       " ('send', 121),\n",
       " ('only', 121),\n",
       " ('align=3dcenter><font', 120),\n",
       " ('what', 118),\n",
       " ('over', 115),\n",
       " ('sans', 115),\n",
       " ('about', 113),\n",
       " ('0px;', 113),\n",
       " ('government', 112),\n",
       " ('which', 112),\n",
       " ('font-family:', 111),\n",
       " ('here', 109),\n",
       " ('but', 107),\n",
       " ('make', 104),\n",
       " ('border=\"0\"', 103),\n",
       " ('who', 103),\n",
       " ('list', 103),\n",
       " ('up', 101),\n",
       " ('<meta', 98),\n",
       " ('<img', 98),\n",
       " ('information', 98),\n",
       " ('they', 98),\n",
       " ('their', 98),\n",
       " ('size=3d4><a', 97),\n",
       " ('use', 96),\n",
       " ('style=3d\"margin-top:', 96),\n",
       " ('margin-bottom:', 96),\n",
       " ('order', 95),\n",
       " ('<p>', 95),\n",
       " ('time', 94),\n",
       " ('many', 94),\n",
       " ('</font><a', 93),\n",
       " ('also', 91),\n",
       " ('<tr', 91),\n",
       " ('his', 91),\n",
       " ('been', 90),\n",
       " ('want', 90),\n",
       " ('0in', 90),\n",
       " ('there', 89),\n",
       " ('center\"', 88),\n",
       " ('may', 87),\n",
       " ('these', 87),\n",
       " ('<p><font', 86),\n",
       " ('<td>', 84),\n",
       " ('<html>', 83),\n",
       " ('name', 83),\n",
       " ('search', 82),\n",
       " ('kingdom', 82),\n",
       " ('internet', 81),\n",
       " ('like', 79),\n",
       " ('--', 79),\n",
       " ('border=3d\"0\"', 79),\n",
       " ('</html>', 78),\n",
       " ('address', 78),\n",
       " (\"don't\", 78),\n",
       " ('other', 77),\n",
       " ('guide', 77),\n",
       " ('enenkio', 77),\n",
       " ('face=\"verdana,', 76),\n",
       " ('me', 76),\n",
       " ('<input', 76),\n",
       " ('</body>', 75),\n",
       " ('</font>', 75),\n",
       " ('0in;', 75),\n",
       " ('2.25pt;', 75),\n",
       " ('because', 74),\n",
       " ('am', 74),\n",
       " ('width=3d\"100%\"', 74),\n",
       " ('home', 74),\n",
       " ('credit', 72),\n",
       " ('know', 72),\n",
       " ('now', 71),\n",
       " ('need', 71),\n",
       " ('help', 71),\n",
       " ('united', 71),\n",
       " ('every', 71),\n",
       " ('u.s.', 70),\n",
       " ('&', 70),\n",
       " ('message', 69),\n",
       " ('into', 69),\n",
       " ('wish', 69),\n",
       " ('mailing', 68),\n",
       " ('<tbody>', 68),\n",
       " ('most', 68),\n",
       " ('would', 67),\n",
       " ('remove', 66),\n",
       " ('color:', 66),\n",
       " ('grants', 66),\n",
       " ('company', 65),\n",
       " ('<center>', 65),\n",
       " ('islands', 65),\n",
       " ('than', 64),\n",
       " ('font-size:', 64),\n",
       " ('those', 64),\n",
       " ('when', 64),\n",
       " ('call', 63),\n",
       " ('face=3d\"arial', 63),\n",
       " ('</head>', 62),\n",
       " ('removed', 62),\n",
       " ('e-mail', 62),\n",
       " ('style=3d\"font-size:', 62),\n",
       " ('some', 62),\n",
       " ('class=3dmsonormal', 62),\n",
       " ('size=\"2\"', 61),\n",
       " ('sent', 61),\n",
       " ('them', 61),\n",
       " ('find', 61),\n",
       " ('much', 61),\n",
       " ('own', 61),\n",
       " ('first', 60),\n",
       " ('#', 60),\n",
       " ('text-align:', 60),\n",
       " ('</font><font', 60),\n",
       " ('marshall', 60),\n",
       " ('>', 59),\n",
       " ('then', 59),\n",
       " ('online', 58),\n",
       " ('made', 58),\n",
       " ('broadcast', 58),\n",
       " ('does', 57),\n",
       " ('0.75pt', 57),\n",
       " ('inset;', 57),\n",
       " ('after', 57),\n",
       " ('<head>', 56),\n",
       " ('<body', 56),\n",
       " ('form', 56),\n",
       " ('even', 56),\n",
       " ('face=\"arial\"', 55),\n",
       " ('should', 55),\n",
       " ('states', 55),\n",
       " ('size=\"1\"', 54),\n",
       " ('within', 54),\n",
       " (\"it's\", 54),\n",
       " ('never', 53),\n",
       " ('see', 53),\n",
       " ('its', 53),\n",
       " ('using', 53),\n",
       " ('go', 53),\n",
       " ('through', 53),\n",
       " ('offer', 53),\n",
       " ('state', 53),\n",
       " ('each', 53),\n",
       " ('color=\"#000000\"><font', 53),\n",
       " ('very', 52),\n",
       " ('complete', 52),\n",
       " ('content-type:', 52),\n",
       " ('under', 52),\n",
       " ('while', 52),\n",
       " ('take', 51),\n",
       " ('special', 51),\n",
       " ('face=3d\"arial,', 51),\n",
       " ('below', 50),\n",
       " ('reply', 50),\n",
       " ('marketing', 50),\n",
       " ('contact', 50),\n",
       " ('such', 50),\n",
       " ('best', 50),\n",
       " ('face=\"arial,', 50),\n",
       " ('must', 49),\n",
       " ('available', 49),\n",
       " ('style=\"font-size:', 49),\n",
       " ('million', 49),\n",
       " ('insurance', 49),\n",
       " ('<b><font', 48),\n",
       " ('html', 48),\n",
       " ('<td><img', 48),\n",
       " ('days', 48),\n",
       " ('could', 48),\n",
       " ('number', 48),\n",
       " ('legal', 48),\n",
       " ('1', 48),\n",
       " ('»', 48),\n",
       " ('align=3d\"center\"', 47),\n",
       " ('being', 47),\n",
       " ('grant', 47),\n",
       " ('----', 47),\n",
       " ('king', 47),\n",
       " ('<p>&nbsp;</p>', 46),\n",
       " ('received', 46),\n",
       " ('align=\"center\"><font', 46),\n",
       " ('serif\"', 46),\n",
       " ('receiving', 45),\n",
       " ('content-transfer-encoding:', 45),\n",
       " ('report', 45),\n",
       " ('start', 45),\n",
       " ('right', 45),\n",
       " ('way', 44),\n",
       " ('sites', 44),\n",
       " ('program', 44),\n",
       " ('life', 44),\n",
       " ('<br><font', 44),\n",
       " ('page', 44),\n",
       " ('face=\"ms', 44),\n",
       " ('list,', 43),\n",
       " ('phone', 43),\n",
       " ('look', 43),\n",
       " ('mail', 43),\n",
       " ('emails', 43),\n",
       " ('programs', 43),\n",
       " ('computer', 43),\n",
       " ('-->', 42),\n",
       " ('cellspacing=\"0\"', 42),\n",
       " ('were', 42),\n",
       " ('</p>', 42),\n",
       " ('cellspacing=3d\"0\"', 42),\n",
       " ('he', 42),\n",
       " ('step', 42),\n",
       " ('black', 42),\n",
       " ('toner', 42),\n",
       " ('atoll', 42),\n",
       " ('subject', 41),\n",
       " ('access', 41),\n",
       " ('you.', 41),\n",
       " ('navy', 41),\n",
       " ('align=\"center\">', 41),\n",
       " ('color=3d\"#ffffff\"', 41),\n",
       " ('public', 40),\n",
       " ('feel', 40),\n",
       " ('work', 40),\n",
       " ('account', 40),\n",
       " ('top', 40),\n",
       " ('same', 40),\n",
       " ('face=\"comic', 40)]"
      ]
     },
     "execution_count": 232,
     "metadata": {},
     "output_type": "execute_result"
    }
   ],
   "source": [
    "from collections import Counter\n",
    "Counter(\" \".join(test[test['spam']==1][\"email\"]).split()).most_common(300)"
   ]
  },
  {
   "cell_type": "code",
   "execution_count": 42,
   "metadata": {},
   "outputs": [
    {
     "data": {
      "text/plain": [
       "(7513, 1)"
      ]
     },
     "execution_count": 42,
     "metadata": {},
     "output_type": "execute_result"
    }
   ],
   "source": [
    "feature = train['exclam_count']\n",
    "feature = [np.array(x).reshape(-1) for x in feature]\n",
    "np.array(feature).shape"
   ]
  },
  {
   "cell_type": "code",
   "execution_count": 43,
   "metadata": {},
   "outputs": [],
   "source": [
    "Phi3_train = np.hstack((Phi2_train, np.matrix(train['exclam_count']).T))\n",
    "Phi4_train = np.hstack((Phi3_train, np.matrix(train['numnums']).T))"
   ]
  },
  {
   "cell_type": "code",
   "execution_count": 244,
   "metadata": {},
   "outputs": [
    {
     "data": {
      "text/plain": [
       "0.88622754491017963"
      ]
     },
     "execution_count": 244,
     "metadata": {},
     "output_type": "execute_result"
    }
   ],
   "source": [
    "interim = LogisticRegression(fit_intercept=True)\n",
    "interim.fit(Phi2_train, Y2_test)\n",
    "\n",
    "#interim_acc = (1/len(x_test)) * np.sum(interim.predict(x_test) == y_test)\n",
    "#score = interim.score(x_test, y_test)\n",
    "score = interim.score(x2t, y2t)\n",
    "score"
   ]
  },
  {
   "cell_type": "code",
   "execution_count": 45,
   "metadata": {},
   "outputs": [
    {
     "data": {
      "text/plain": [
       "0.87714627978171167"
      ]
     },
     "execution_count": 45,
     "metadata": {},
     "output_type": "execute_result"
    }
   ],
   "source": [
    "interim2 = LogisticRegression(fit_intercept=True)\n",
    "interim2.fit(Phi4_train, Y2_test)\n",
    "score2 = interim2.score(Phi4_train, Y2_test)\n",
    "score2"
   ]
  },
  {
   "cell_type": "code",
   "execution_count": 46,
   "metadata": {},
   "outputs": [
    {
     "data": {
      "text/plain": [
       "0.87834420338080665"
      ]
     },
     "execution_count": 46,
     "metadata": {},
     "output_type": "execute_result"
    }
   ],
   "source": [
    "interreg = LogisticRegression(penalty='l1', fit_intercept=True)\n",
    "interreg.fit(Phi4_train, Y2_test)\n",
    "scorereg = interreg.score(Phi4_train, Y2_test)\n",
    "scorereg"
   ]
  },
  {
   "cell_type": "code",
   "execution_count": 47,
   "metadata": {},
   "outputs": [],
   "source": [
    "#from nltk import FreqDist\n",
    "#import nltk\n",
    "#texts = \n",
    "#words = nltk.tokenize.word_tokenize(texts)\n",
    "#fdist = FreqDist(words)"
   ]
  },
  {
   "cell_type": "code",
   "execution_count": 48,
   "metadata": {},
   "outputs": [
    {
     "data": {
      "text/plain": [
       "(115221,)"
      ]
     },
     "execution_count": 48,
     "metadata": {},
     "output_type": "execute_result"
    }
   ],
   "source": [
    "import numpy as np\n",
    "from sklearn.feature_extraction.text import CountVectorizer\n",
    "texts = train['email']\n",
    "vectorizer = CountVectorizer()\n",
    "X = vectorizer.fit_transform(texts)\n",
    "freq = np.ravel(X.sum(axis=0)) # sum each columns to get total counts for each word\n",
    "freq.shape"
   ]
  },
  {
   "cell_type": "code",
   "execution_count": 54,
   "metadata": {},
   "outputs": [
    {
     "data": {
      "text/plain": [
       "(115221,)"
      ]
     },
     "execution_count": 54,
     "metadata": {},
     "output_type": "execute_result"
    }
   ],
   "source": [
    "import operator\n",
    "# get vocabulary keys, sorted by value\n",
    "vocab = [v[0] for v in sorted(vectorizer.vocabulary_.items(), key=operator.itemgetter(1))]\n",
    "fdist = dict(zip(vocab, freq)) # return same format as nltk\n",
    "from sklearn.feature_extraction import DictVectorizer\n",
    "dictVectorizer = DictVectorizer()\n",
    "train_data_dict = dictVectorizer.fit_transform(fdist)\n",
    "train_data_dict = train_data_dict.toarray()\n",
    "data_dict = np.array(dictVectorizer.get_feature_names())\n",
    "data_dict.shape"
   ]
  },
  {
   "cell_type": "code",
   "execution_count": 50,
   "metadata": {},
   "outputs": [],
   "source": [
    "sentiment_model = LogisticRegression(penalty='l1', fit_intercept=True)\n",
    "#sentiment_model.fit(X = train_data_dict, y=train['spam'])\n",
    "#interfreq.fit(train_data_dict, Y2_test)\n",
    "#freqscore = sentiment_model.score(train_data_dict, Y2_test)"
   ]
  },
  {
   "cell_type": "code",
   "execution_count": null,
   "metadata": {},
   "outputs": [],
   "source": []
  },
  {
   "cell_type": "markdown",
   "metadata": {
    "deletable": false,
    "editable": false,
    "nbgrader": {
     "cell_type": "markdown",
     "checksum": "55580b1682a53b3d3bab8e3d6b928973",
     "grade": false,
     "grade_id": "q7",
     "locked": true,
     "schema_version": 2,
     "solution": false
    }
   },
   "source": [
    "# Question 7 (Feature/Model Selection Process)\n",
    "\n",
    "In this following cell, describe the process of improving your model. You should use at least 2-3 sentences each to address the follow questions:\n",
    "\n",
    "1. How did you find better features for your model?\n",
    "2. What did you try that worked / didn't work?\n",
    "3. What was surprising in your search for good features?"
   ]
  },
  {
   "cell_type": "markdown",
   "metadata": {
    "deletable": false,
    "nbgrader": {
     "cell_type": "markdown",
     "checksum": "939e6a5a273ced9801a7c510aac0cde4",
     "grade": true,
     "grade_id": "q7-written",
     "locked": false,
     "points": 6,
     "schema_version": 2,
     "solution": true
    },
    "tags": [
     "student",
     "written",
     "q_feature"
    ]
   },
   "source": [
    "1. \n",
    "    I started by looking at the content of the emails in the training set to look for groups of words or language that are more common in spam emails. Some people used code from a past homework to find the most common words, but I know this would include html and stop words, so I figured manually examining individual emails would be best. I looked through around 200-300 emails, randomly throughout the dataset.\n",
    "    I also researched into popular methods determining spam emails. They got a little more complicated, so I didn't really implement these, such as term-frequency matrices.\n",
    "2. \n",
    "    Adding occurences of numbers and punctuation helped a little, but didn't insanely improve my accuracy. Certain words, especially with more focused language (for example, language of extremes like 'lowest', 'maximum', 'highest') increased my accuracy by a lot. 'Viagra' occurs a lot more in spam emails than non-spam emails. I stuck with the list of words as my features rather than adding any other numeric feature to train my model. \n",
    "3. \n",
    "    As I was introduced to new features and had new features suggested to me, all the features made sense. Nothing was particularly surprising, it was more that certain features are a lot less obvious. The occurences of numbers and term frequency matrices were the most interesting to me. "
   ]
  },
  {
   "cell_type": "markdown",
   "metadata": {
    "deletable": false,
    "editable": false,
    "nbgrader": {
     "cell_type": "markdown",
     "checksum": "60b1230b3da1ce9160009cccef25dd8d",
     "grade": false,
     "grade_id": "q8",
     "locked": true,
     "schema_version": 2,
     "solution": false
    }
   },
   "source": [
    "# Question 8 (EDA)\n",
    "\n",
    "In the two cells below, show a visualization that you used to select features for your model. Include both\n",
    "\n",
    "1. A plot showing something meaningful about the data that helped you during feature / model selection.\n",
    "2. 2-3 sentences describing what you plotted and what its implications are for your features.\n",
    "\n",
    "Feel to create as many plots as you want in your process of feature selection, but select one for the cells below.\n",
    "\n",
    "**You should not show us a visualization just like in question 3.** Specifically, don't show us a bar chart of proportions, or a one-dimensional class conditional density plot. Any other plot is acceptable, as long as it comes with thoughtful commentary. Here are some ideas:\n",
    "\n",
    "1. Consider the correlation between multiple features (look up correlation plots and `sns.heatmap`). \n",
    "1. Try to show redundancy in a group of features (e.g. `body` and `html` might co-occur relatively frequently, or you might be able to design a feature that captures all html tags and compare it to these). \n",
    "1. Use a word-cloud or another visualization tool to characterize the most common spam words.\n",
    "1. Visually depict whether spam emails tend to be wordier (in some sense) than ham emails."
   ]
  },
  {
   "cell_type": "code",
   "execution_count": null,
   "metadata": {
    "deletable": false,
    "nbgrader": {
     "cell_type": "code",
     "checksum": "94f71f52acc1ddc1af721de03dddc841",
     "grade": true,
     "grade_id": "q8-eda",
     "locked": false,
     "points": 3,
     "schema_version": 2,
     "solution": true
    },
    "tags": [
     "student",
     "written",
     "q_eda1"
    ]
   },
   "outputs": [],
   "source": []
  },
  {
   "cell_type": "code",
   "execution_count": 51,
   "metadata": {},
   "outputs": [
    {
     "data": {
      "text/plain": [
       "<matplotlib.axes._subplots.AxesSubplot at 0x7fe28f18d1d0>"
      ]
     },
     "execution_count": 51,
     "metadata": {},
     "output_type": "execute_result"
    },
    {
     "data": {
      "image/png": "[encoded data removed]",
      "text/plain": [
       "<matplotlib.figure.Figure at 0x7fe28f1e2a58>"
      ]
     },
     "metadata": {},
     "output_type": "display_data"
    }
   ],
   "source": [
    "# Generated a correlation matrix\n",
    "corr = train.corr()\n",
    "\n",
    "mask = np.zeros_like(corr, dtype=np.bool)\n",
    "mask[np.triu_indices_from(mask)] = True\n",
    "\n",
    "f, ax = plt.subplots(figsize=(11, 9))\n",
    "\n",
    "cmap = sns.diverging_palette(220, 10, as_cmap=True)\n",
    "\n",
    "# Draw the heatmap with the mask and correct aspect ratio\n",
    "sns.heatmap(corr, mask=mask, cmap=cmap, vmax=.3, center=0,\n",
    "            square=True, linewidths=.5, cbar_kws={\"shrink\": .5})\n"
   ]
  },
  {
   "cell_type": "markdown",
   "metadata": {
    "deletable": false,
    "nbgrader": {
     "cell_type": "markdown",
     "checksum": "6d76d0efe11b5d997378ac902d04f7c1",
     "grade": true,
     "grade_id": "q8-commentary",
     "locked": false,
     "points": 3,
     "schema_version": 2,
     "solution": true
    }
   },
   "source": [
    "I plotted a heatmap of the correlation matrix for the training datatset. .corr() calculated the correlation coefficients between all the pairs of numeric columns of the dataframe, and indicate the degree to which they are linearly dependent. The redder the box for a pair of numeric columns, the stronger the correlation.  One observation I have is that having a lot of numbers ('numnums' column) has a strong correlation to having a lot of punctuation and exclamation. There is also a correlation between having a lot of upper case letters and being identified as a spam email. \n",
    "\n",
    "In terms of implications for the features I picked for my model, I found this information interesting but the correlations with the values and the spam column are not particularly compelling, so I didn't feel the need to use any other features apart from the words_in_texts list I created."
   ]
  },
  {
   "cell_type": "markdown",
   "metadata": {
    "deletable": false,
    "editable": false,
    "nbgrader": {
     "cell_type": "markdown",
     "checksum": "99200fdbaff3f814a5c7685c862989d9",
     "grade": false,
     "grade_id": "q9",
     "locked": true,
     "schema_version": 2,
     "solution": false
    }
   },
   "source": [
    "# Question 9 (Making a Precision-Recall Curve)\n",
    "\n",
    "We can trade off between precision and recall. In most cases we won't be able to get both perfect precision (i.e. no false positives) and recall (i.e. no false negatives), so we have to compromise. For example, in the case of cancer screenings, false negatives are comparatively worse than false positives — a false negative means that a patient might not discover a disease until it's too late to treat, while a false positive means that a patient will probably have to take another screening.\n",
    "\n",
    "Recall that logistic regression calculates the probability that an example belongs to a certain class. Then, to classify an example we say that an email is spam if our classifier gives it $\\ge 0.5$ probability of being spam. However, *we can adjust that cutoff*: we can say that an email is spam only if our classifier gives it $\\ge 0.7$ probability of being spam, for example. This is how we can trade off false positives and false negatives.\n",
    "\n",
    "The precision-recall curve shows this trade off for each possible cutoff probability. In the cell below, [plot a precision-recall curve](http://scikit-learn.org/stable/auto_examples/model_selection/plot_precision_recall.html#plot-the-precision-recall-curve) for your final classifier (the one you use to make predictions for Kaggle)."
   ]
  },
  {
   "cell_type": "code",
   "execution_count": 52,
   "metadata": {
    "deletable": false,
    "nbgrader": {
     "cell_type": "code",
     "checksum": "8aed6cd26a59c471f66756ebb5e8bc51",
     "grade": true,
     "grade_id": "q9-roc-curve",
     "locked": false,
     "points": 3,
     "schema_version": 2,
     "solution": true
    },
    "tags": [
     "student",
     "written",
     "q_roc"
    ]
   },
   "outputs": [
    {
     "data": {
      "text/plain": [
       "Text(0.5,1,'Precision-Recall Curve')"
      ]
     },
     "execution_count": 52,
     "metadata": {},
     "output_type": "execute_result"
    },
    {
     "data": {
      "image/png": "[encoded data removed]",
      "text/plain": [
       "<matplotlib.figure.Figure at 0x7fe28f1e2ac8>"
      ]
     },
     "metadata": {},
     "output_type": "display_data"
    }
   ],
   "source": [
    "from sklearn.metrics import precision_recall_curve\n",
    "from sklearn.metrics import average_precision_score\n",
    "\n",
    "# Note that you'll want to use the .predict_proba(...) method for your classifier\n",
    "# instead of .predict(...) so you get probabilities, not classes\n",
    "\n",
    "predicted = interreg.predict_proba(Phi4_train)\n",
    "precision, recall, threshold = precision_recall_curve(Y2_test, predicted[:,1])\n",
    "\n",
    "plt.step(recall, precision, color='b', alpha=0.2,\n",
    "         where='post')\n",
    "plt.fill_between(recall, precision, step='post', alpha=0.2,\n",
    "                 color='b')\n",
    "\n",
    "plt.xlabel('Recall')\n",
    "plt.ylabel('Precision')\n",
    "plt.ylim([0.0, 1.05])\n",
    "plt.xlim([0.0, 1.0])\n",
    "plt.title('Precision-Recall Curve')"
   ]
  },
  {
   "cell_type": "markdown",
   "metadata": {
    "deletable": false,
    "editable": false,
    "nbgrader": {
     "cell_type": "markdown",
     "checksum": "6f241f96a5f0b08ae0392d96660d109d",
     "grade": false,
     "grade_id": "q10",
     "locked": true,
     "schema_version": 2,
     "solution": false
    }
   },
   "source": [
    "# Question 10: Submitting to Kaggle\n",
    "\n",
    "The following code will write your predictions on the evaluation dataset to a CSV, which you can submit to Kaggle. You may need to modify it to suit your needs.\n",
    "\n",
    "Save your predictions in a 1-dimensional array called `evaluation_predictions`. *Even if you are not submitting to Kaggle, please make sure you've saved your predictions to `evaluation_predictions` as this is how your grade for this part will be determined.*\n",
    "\n",
    "Remember that if you've performed transformations or featurization on the training data, you must also perform the same transformations on the evaluation data in order to make predictions. For example, if you've created features for the words \"drug\" and \"money\" on the training data, you must also extract the same features in order to use scikit-learn's `.predict(...)` method.\n",
    "\n",
    "You should submit your CSV files to https://www.kaggle.com/t/39fae66747b14fd48fe0984f2e4f16ac"
   ]
  },
  {
   "cell_type": "code",
   "execution_count": 247,
   "metadata": {},
   "outputs": [],
   "source": [
    "evaluation['email'] = [re.sub('<[A-Za-z\\/][^>]*>', '', x) for x in evaluation['email']]\n"
   ]
  },
  {
   "cell_type": "code",
   "execution_count": 318,
   "metadata": {
    "deletable": false,
    "nbgrader": {
     "cell_type": "code",
     "checksum": "7a2abb910f7ef354666d7e39daed7454",
     "grade": false,
     "grade_id": "q10-answer",
     "locked": false,
     "schema_version": 2,
     "solution": true
    }
   },
   "outputs": [
    {
     "data": {
      "text/plain": [
       "0.89580838323353296"
      ]
     },
     "execution_count": 318,
     "metadata": {},
     "output_type": "execute_result"
    }
   ],
   "source": [
    "# CHANGE ME (Currently making random predictions)\n",
    "#evaluation_predictions = interim.predict(Phi3_train)\n",
    "#np.random.rand(len(evaluation)) > 0.5\n",
    "# Define a model\n",
    "final_model = interreg\n",
    "final_xtr = Phi2_train\n",
    "final_ytr = Y2_test\n",
    "\n",
    "import string\n",
    "count = lambda l1, l2: len(list(filter(lambda c: c in l2, l1)))\n",
    "\n",
    "#DONT FORGET TO CLEAN EVALUATION DATASET\n",
    "\n",
    "#evaluation['exclam_count'] = [count(x, ['!']) for x in evaluation['email']]\n",
    "#evaluation['numnums'] = [count(x, string.digits) for x in evaluation['email']]\n",
    "\n",
    "#Define evalution\n",
    "x_eval = words_in_texts(save_words, evaluation['email'])\n",
    "#x_eval2 = np.hstack((x_eval, np.matrix(evaluation['exclam_count']).T))\n",
    "#x_eval3 = np.hstack((x_eval2, np.matrix(evaluation['numnums']).T))\n",
    "\n",
    "\n",
    "#Fitting\n",
    "final_model.fit(final_xtr, final_ytr)\n",
    "\n",
    "#Making predictions\n",
    "evaluation_predictions = final_model.predict(x_eval)\n",
    "evaly = evaluation['email']\n",
    "\n",
    "scoref = final_model.score(x2t, y2t)\n",
    "scoref"
   ]
  },
  {
   "cell_type": "code",
   "execution_count": 319,
   "metadata": {
    "deletable": false,
    "editable": false,
    "nbgrader": {
     "cell_type": "code",
     "checksum": "5005948ef8f43a714dad71e48c71bb8a",
     "grade": true,
     "grade_id": "q10-tests",
     "locked": true,
     "points": 1,
     "schema_version": 2,
     "solution": false
    }
   },
   "outputs": [],
   "source": [
    "# must be ndarray of predictions\n",
    "assert isinstance(evaluation_predictions, np.ndarray) \n",
    "\n",
    "# must be binary labels (0 or 1) and not probabilities\n",
    "assert np.all((evaluation_predictions == 0) | (evaluation_predictions == 1))\n",
    "\n",
    "# must be the right number of predictions\n",
    "assert evaluation_predictions.shape == (1000, )"
   ]
  },
  {
   "cell_type": "code",
   "execution_count": null,
   "metadata": {},
   "outputs": [],
   "source": []
  },
  {
   "cell_type": "code",
   "execution_count": 320,
   "metadata": {
    "deletable": false,
    "editable": false,
    "nbgrader": {
     "cell_type": "code",
     "checksum": "9dfffe9e2d4d757b84e8d3601b5e5dd9",
     "grade": true,
     "grade_id": "q10-hidden-tests",
     "locked": true,
     "points": 4,
     "schema_version": 2,
     "solution": false
    }
   },
   "outputs": [],
   "source": [
    "# Please do not modify this cell"
   ]
  },
  {
   "cell_type": "markdown",
   "metadata": {
    "deletable": false,
    "editable": false,
    "nbgrader": {
     "cell_type": "markdown",
     "checksum": "f08c87d79dbcfed4134d2f56fda5b1fa",
     "grade": false,
     "grade_id": "cell-d15e30e2a961277d",
     "locked": true,
     "schema_version": 2,
     "solution": false
    }
   },
   "source": [
    "The following saves a file to submit to Kaggle."
   ]
  },
  {
   "cell_type": "code",
   "execution_count": 321,
   "metadata": {},
   "outputs": [
    {
     "name": "stdout",
     "output_type": "stream",
     "text": [
      "Created a CSV file: submission_2018-05-02T21:53:50.csv.\n",
      "You may now upload this CSV file to Kaggle for scoring.\n"
     ]
    }
   ],
   "source": [
    "from datetime import datetime\n",
    "\n",
    "# Assuming that your predictions on the evaluation set are stored in a 1-dimensional array called\n",
    "# evaluation_predictions. Feel free to modify this cell as long you create a CSV in the right format.\n",
    "\n",
    "# must be ndarray of predictions\n",
    "assert isinstance(evaluation_predictions, np.ndarray) \n",
    "\n",
    "# must be binary labels (0 or 1) and not probabilities\n",
    "assert np.all((evaluation_predictions == 0) | (evaluation_predictions == 1))\n",
    "\n",
    "# must be the right number of predictions\n",
    "assert evaluation_predictions.shape == (1000, )\n",
    "\n",
    "# Construct and save the submission:\n",
    "submission_df = pd.DataFrame({\n",
    "    \"Id\": evaluation['id'], \n",
    "    \"Class\": evaluation_predictions,\n",
    "}, columns=['Id', 'Class'])\n",
    "timestamp = datetime.isoformat(datetime.now()).split(\".\")[0]\n",
    "submission_df.to_csv(\"submission_{}.csv\".format(timestamp), index=False)\n",
    "\n",
    "print('Created a CSV file: {}.'.format(\"submission_{}.csv\".format(timestamp)))\n",
    "print('You may now upload this CSV file to Kaggle for scoring.')"
   ]
  },
  {
   "cell_type": "code",
   "execution_count": null,
   "metadata": {},
   "outputs": [],
   "source": []
  }
 ],
 "metadata": {
  "kernelspec": {
   "display_name": "Python 3",
   "language": "python",
   "name": "python3"
  },
  "language_info": {
   "codemirror_mode": {
    "name": "ipython",
    "version": 3
   },
   "file_extension": ".py",
   "mimetype": "text/x-python",
   "name": "python",
   "nbconvert_exporter": "python",
   "pygments_lexer": "ipython3",
   "version": "3.6.4"
  }
 },
 "nbformat": 4,
 "nbformat_minor": 2
}
